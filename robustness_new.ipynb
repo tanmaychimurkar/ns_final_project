{
 "cells": [
  {
   "cell_type": "markdown",
   "metadata": {},
   "source": [
    "### Usage\n",
    "This notebook shows how we measured the robustness of the network using two different strategies for node removal, random and based on centrality measures."
   ]
  },
  {
   "cell_type": "markdown",
   "metadata": {
    "collapsed": false
   },
   "source": [
    "#### Importing libraries"
   ]
  },
  {
   "cell_type": "code",
   "execution_count": 2,
   "metadata": {},
   "outputs": [],
   "source": [
    "import pandas as pd\n",
    "import networkx as nx\n",
    "import matplotlib.pyplot as plt\n",
    "import random \n",
    "import heapq\n",
    "import seaborn as sns\n",
    "from tqdm import tqdm\n",
    "\n",
    "from centrality import *"
   ]
  },
  {
   "cell_type": "markdown",
   "metadata": {
    "collapsed": false
   },
   "source": [
    "#### Loading the graph from csv file"
   ]
  },
  {
   "cell_type": "code",
   "execution_count": 4,
   "metadata": {},
   "outputs": [],
   "source": [
    "def build_graph():\n",
    "    df = pd.read_csv('top_1000_by_liquidity.csv')\n",
    "    edges = pd.DataFrame(\n",
    "    {\n",
    "        \"source\": df[\"token0.symbol\"],\n",
    "        \"target\": df[\"token1.symbol\"],\n",
    "        \"weight\": df[\"reserveUSD\"],\n",
    "    }\n",
    "    )\n",
    "    G = nx.from_pandas_edgelist(edges, edge_attr=True, create_using=nx.Graph().to_undirected())\n",
    "    return G"
   ]
  },
  {
   "cell_type": "markdown",
   "metadata": {
    "collapsed": false
   },
   "source": [
    "#### Functions to remove nodes"
   ]
  },
  {
   "cell_type": "markdown",
   "metadata": {},
   "source": [
    "#### 1) Randomly"
   ]
  },
  {
   "cell_type": "code",
   "execution_count": 5,
   "metadata": {},
   "outputs": [],
   "source": [
    "def remove_node_randomly(G, num):\n",
    "    \"\"\" Remove Node Randomly\n",
    "\n",
    "    This function removes nodes randomly from the full graph and returns the remaining graph\n",
    "\n",
    "    :param G: the input graph\n",
    "    :param num: number of nodes to remove at random\n",
    "    :return g_rem: the remaining graph with nodes randomly removed\n",
    "    \"\"\"\n",
    "    g_rem = G.copy()\n",
    "    nodes_g = list(g_rem.nodes)\n",
    "    ran_sample = random.sample(nodes_g, num)\n",
    "    g_rem.remove_nodes_from(ran_sample)\n",
    "    \n",
    "    return g_rem\n"
   ]
  },
  {
   "cell_type": "markdown",
   "metadata": {},
   "source": [
    "#### 2) Based on a given centrality measure"
   ]
  },
  {
   "cell_type": "code",
   "execution_count": 6,
   "metadata": {},
   "outputs": [],
   "source": [
    "def remove_most_important_nodes(G, num, centrality_measure):\n",
    "    \"\"\" Remove Most Important Nodes\n",
    "\n",
    "    This function removes the most important node from the input graph, with the importance of the node being determined by the centrality measure\n",
    "\n",
    "    :param num: the number of most important nodes to remove\n",
    "    :param G: the input graph\n",
    "    :param centrality_measure: the centrality measure used  #todo: verify this with Kartikey\n",
    "    :return g_rem: the remaining graph with the most important node removed\n",
    "    \"\"\"\n",
    "    g_rem = G.copy()\n",
    "    rem_sample = heapq.nlargest(num, centrality_measure, key=centrality_measure.get)\n",
    "    g_rem.remove_nodes_from(rem_sample)\n",
    "\n",
    "    return g_rem\n"
   ]
  },
  {
   "cell_type": "markdown",
   "metadata": {
    "collapsed": false
   },
   "source": [
    "#### Function to check robustness - based on Diameter of the Graph"
   ]
  },
  {
   "cell_type": "code",
   "execution_count": 7,
   "metadata": {},
   "outputs": [],
   "source": [
    "def robustness():\n",
    "    \"\"\" Robustness\n",
    "\n",
    "    This function calculates the min, max and avg. diameter across all the subgraphs in the network by iteratively removing one node randomly from the input graph\n",
    "\n",
    "    :return: list of all the min, max, and avg. diameter values\n",
    "    \"\"\"\n",
    "    G = build_graph()\n",
    "    num_nodes = len(list(G.nodes()))\n",
    "\n",
    "    diameter_list_min = []\n",
    "    diameter_list_max = []\n",
    "    diameter_list_average = []\n",
    "    num_of_sugraphs_list = []\n",
    "\n",
    "    removed_nodes = [0]\n",
    "    nodes_to_be_deleted = 1\n",
    "    rem_counter  = 0 \n",
    "\n",
    "    for x in tqdm(range(int(num_nodes/nodes_to_be_deleted))):\n",
    "\n",
    "        if x == 0:\n",
    "            list_sub_graphs = list(G.subgraph(c) for c in nx.connected_components(G))\n",
    "\n",
    "            num_of_sugraphs_list.append(len(list_sub_graphs))\n",
    "            diameters = [nx.diameter(subgraph) for subgraph in list_sub_graphs]\n",
    "            diameter_list_min.append(min(diameters))\n",
    "            diameter_list_max.append(max(diameters))\n",
    "            diameter_list_average.append(sum(diameters)/len(diameters))\n",
    "\n",
    "        G_new = remove_node_randomly(G, nodes_to_be_deleted)\n",
    "        rem_counter = rem_counter + nodes_to_be_deleted\n",
    "        \n",
    "        list_sub_graphs = list(G_new.subgraph(c) for c in nx.connected_components(G_new))\n",
    "\n",
    "        num_of_sugraphs_list.append(len(list_sub_graphs))\n",
    "        diameters = [nx.diameter(subgraph) for subgraph in list_sub_graphs]\n",
    "        diameter_list_min.append(min(diameters))\n",
    "        diameter_list_max.append(max(diameters))\n",
    "        diameter_list_average.append(sum(diameters)/len(diameters))\n",
    "        removed_nodes.append(rem_counter)\n",
    "\n",
    "    plt.figure(figsize=(12,8))\n",
    "    plt.title(\"Variation of the diameter values across all subgraphs of the network\")\n",
    "    plt.xlabel(\"Number of nodes removed\")\n",
    "    plt.ylabel(\"diameter values across all subgraphs\")\n",
    "    plt.plot(removed_nodes, diameter_list_min, linestyle=\"-\", marker=\"o\", label=\"min diameter across all subgraphs\", color=\"blue\", alpha=0.2)\n",
    "    plt.plot(removed_nodes, diameter_list_max, linestyle=\"-\", marker=\"o\", label=\"max diameter across all subgraphs\", color=\"blue\", alpha=0.2)\n",
    "    plt.plot(removed_nodes, diameter_list_average, linestyle=\"-\", marker=\"o\", label=\"average diameter across all subgraphs\", color=\"red\")\n",
    "    plt.legend()\n",
    "    plt.show()\n",
    "\n",
    "    "
   ]
  },
  {
   "cell_type": "code",
   "execution_count": 8,
   "metadata": {},
   "outputs": [
    {
     "name": "stderr",
     "output_type": "stream",
     "text": [
      "  0%|          | 4/934 [00:17<1:05:58,  4.26s/it]\n"
     ]
    },
    {
     "ename": "KeyboardInterrupt",
     "evalue": "",
     "output_type": "error",
     "traceback": [
      "\u001b[0;31m---------------------------------------------------------------------------\u001b[0m",
      "\u001b[0;31mKeyboardInterrupt\u001b[0m                         Traceback (most recent call last)",
      "\u001b[1;32m/Users/geolaza/UZH/Network Science/Project/ns_final_project/robustness_new.ipynb Cell 12\u001b[0m in \u001b[0;36m<cell line: 1>\u001b[0;34m()\u001b[0m\n\u001b[0;32m----> <a href='vscode-notebook-cell:/Users/geolaza/UZH/Network%20Science/Project/ns_final_project/robustness_new.ipynb#X13sZmlsZQ%3D%3D?line=0'>1</a>\u001b[0m robustness()\n",
      "\u001b[1;32m/Users/geolaza/UZH/Network Science/Project/ns_final_project/robustness_new.ipynb Cell 12\u001b[0m in \u001b[0;36mrobustness\u001b[0;34m()\u001b[0m\n\u001b[1;32m     <a href='vscode-notebook-cell:/Users/geolaza/UZH/Network%20Science/Project/ns_final_project/robustness_new.ipynb#X13sZmlsZQ%3D%3D?line=33'>34</a>\u001b[0m list_sub_graphs \u001b[39m=\u001b[39m \u001b[39mlist\u001b[39m(G_new\u001b[39m.\u001b[39msubgraph(c) \u001b[39mfor\u001b[39;00m c \u001b[39min\u001b[39;00m nx\u001b[39m.\u001b[39mconnected_components(G_new))\n\u001b[1;32m     <a href='vscode-notebook-cell:/Users/geolaza/UZH/Network%20Science/Project/ns_final_project/robustness_new.ipynb#X13sZmlsZQ%3D%3D?line=35'>36</a>\u001b[0m num_of_sugraphs_list\u001b[39m.\u001b[39mappend(\u001b[39mlen\u001b[39m(list_sub_graphs))\n\u001b[0;32m---> <a href='vscode-notebook-cell:/Users/geolaza/UZH/Network%20Science/Project/ns_final_project/robustness_new.ipynb#X13sZmlsZQ%3D%3D?line=36'>37</a>\u001b[0m diameters \u001b[39m=\u001b[39m [nx\u001b[39m.\u001b[39mdiameter(subgraph) \u001b[39mfor\u001b[39;00m subgraph \u001b[39min\u001b[39;00m list_sub_graphs]\n\u001b[1;32m     <a href='vscode-notebook-cell:/Users/geolaza/UZH/Network%20Science/Project/ns_final_project/robustness_new.ipynb#X13sZmlsZQ%3D%3D?line=37'>38</a>\u001b[0m diameter_list_min\u001b[39m.\u001b[39mappend(\u001b[39mmin\u001b[39m(diameters))\n\u001b[1;32m     <a href='vscode-notebook-cell:/Users/geolaza/UZH/Network%20Science/Project/ns_final_project/robustness_new.ipynb#X13sZmlsZQ%3D%3D?line=38'>39</a>\u001b[0m diameter_list_max\u001b[39m.\u001b[39mappend(\u001b[39mmax\u001b[39m(diameters))\n",
      "\u001b[1;32m/Users/geolaza/UZH/Network Science/Project/ns_final_project/robustness_new.ipynb Cell 12\u001b[0m in \u001b[0;36m<listcomp>\u001b[0;34m(.0)\u001b[0m\n\u001b[1;32m     <a href='vscode-notebook-cell:/Users/geolaza/UZH/Network%20Science/Project/ns_final_project/robustness_new.ipynb#X13sZmlsZQ%3D%3D?line=33'>34</a>\u001b[0m list_sub_graphs \u001b[39m=\u001b[39m \u001b[39mlist\u001b[39m(G_new\u001b[39m.\u001b[39msubgraph(c) \u001b[39mfor\u001b[39;00m c \u001b[39min\u001b[39;00m nx\u001b[39m.\u001b[39mconnected_components(G_new))\n\u001b[1;32m     <a href='vscode-notebook-cell:/Users/geolaza/UZH/Network%20Science/Project/ns_final_project/robustness_new.ipynb#X13sZmlsZQ%3D%3D?line=35'>36</a>\u001b[0m num_of_sugraphs_list\u001b[39m.\u001b[39mappend(\u001b[39mlen\u001b[39m(list_sub_graphs))\n\u001b[0;32m---> <a href='vscode-notebook-cell:/Users/geolaza/UZH/Network%20Science/Project/ns_final_project/robustness_new.ipynb#X13sZmlsZQ%3D%3D?line=36'>37</a>\u001b[0m diameters \u001b[39m=\u001b[39m [nx\u001b[39m.\u001b[39;49mdiameter(subgraph) \u001b[39mfor\u001b[39;00m subgraph \u001b[39min\u001b[39;00m list_sub_graphs]\n\u001b[1;32m     <a href='vscode-notebook-cell:/Users/geolaza/UZH/Network%20Science/Project/ns_final_project/robustness_new.ipynb#X13sZmlsZQ%3D%3D?line=37'>38</a>\u001b[0m diameter_list_min\u001b[39m.\u001b[39mappend(\u001b[39mmin\u001b[39m(diameters))\n\u001b[1;32m     <a href='vscode-notebook-cell:/Users/geolaza/UZH/Network%20Science/Project/ns_final_project/robustness_new.ipynb#X13sZmlsZQ%3D%3D?line=38'>39</a>\u001b[0m diameter_list_max\u001b[39m.\u001b[39mappend(\u001b[39mmax\u001b[39m(diameters))\n",
      "File \u001b[0;32m~/opt/anaconda3/lib/python3.9/site-packages/networkx/algorithms/distance_measures.py:299\u001b[0m, in \u001b[0;36mdiameter\u001b[0;34m(G, e, usebounds)\u001b[0m\n\u001b[1;32m    297\u001b[0m     \u001b[39mreturn\u001b[39;00m extrema_bounding(G, compute\u001b[39m=\u001b[39m\u001b[39m\"\u001b[39m\u001b[39mdiameter\u001b[39m\u001b[39m\"\u001b[39m)\n\u001b[1;32m    298\u001b[0m \u001b[39mif\u001b[39;00m e \u001b[39mis\u001b[39;00m \u001b[39mNone\u001b[39;00m:\n\u001b[0;32m--> 299\u001b[0m     e \u001b[39m=\u001b[39m eccentricity(G)\n\u001b[1;32m    300\u001b[0m \u001b[39mreturn\u001b[39;00m \u001b[39mmax\u001b[39m(e\u001b[39m.\u001b[39mvalues())\n",
      "File \u001b[0;32m~/opt/anaconda3/lib/python3.9/site-packages/networkx/algorithms/distance_measures.py:248\u001b[0m, in \u001b[0;36meccentricity\u001b[0;34m(G, v, sp)\u001b[0m\n\u001b[1;32m    246\u001b[0m \u001b[39mfor\u001b[39;00m n \u001b[39min\u001b[39;00m G\u001b[39m.\u001b[39mnbunch_iter(v):\n\u001b[1;32m    247\u001b[0m     \u001b[39mif\u001b[39;00m sp \u001b[39mis\u001b[39;00m \u001b[39mNone\u001b[39;00m:\n\u001b[0;32m--> 248\u001b[0m         length \u001b[39m=\u001b[39m nx\u001b[39m.\u001b[39;49msingle_source_shortest_path_length(G, n)\n\u001b[1;32m    249\u001b[0m         L \u001b[39m=\u001b[39m \u001b[39mlen\u001b[39m(length)\n\u001b[1;32m    250\u001b[0m     \u001b[39melse\u001b[39;00m:\n",
      "File \u001b[0;32m~/opt/anaconda3/lib/python3.9/site-packages/networkx/algorithms/shortest_paths/unweighted.py:59\u001b[0m, in \u001b[0;36msingle_source_shortest_path_length\u001b[0;34m(G, source, cutoff)\u001b[0m\n\u001b[1;32m     57\u001b[0m     cutoff \u001b[39m=\u001b[39m \u001b[39mfloat\u001b[39m(\u001b[39m\"\u001b[39m\u001b[39minf\u001b[39m\u001b[39m\"\u001b[39m)\n\u001b[1;32m     58\u001b[0m nextlevel \u001b[39m=\u001b[39m {source: \u001b[39m1\u001b[39m}\n\u001b[0;32m---> 59\u001b[0m \u001b[39mreturn\u001b[39;00m \u001b[39mdict\u001b[39;49m(_single_shortest_path_length(G\u001b[39m.\u001b[39;49madj, nextlevel, cutoff))\n",
      "File \u001b[0;32m~/opt/anaconda3/lib/python3.9/site-packages/networkx/algorithms/shortest_paths/unweighted.py:91\u001b[0m, in \u001b[0;36m_single_shortest_path_length\u001b[0;34m(adj, firstlevel, cutoff)\u001b[0m\n\u001b[1;32m     89\u001b[0m         \u001b[39mreturn\u001b[39;00m\n\u001b[1;32m     90\u001b[0m     \u001b[39mfor\u001b[39;00m v \u001b[39min\u001b[39;00m found:\n\u001b[0;32m---> 91\u001b[0m         nextlevel\u001b[39m.\u001b[39;49mupdate(adj[v])\n\u001b[1;32m     92\u001b[0m     level \u001b[39m+\u001b[39m\u001b[39m=\u001b[39m \u001b[39m1\u001b[39m\n\u001b[1;32m     93\u001b[0m \u001b[39mdel\u001b[39;00m seen\n",
      "File \u001b[0;32m~/opt/anaconda3/lib/python3.9/site-packages/networkx/classes/coreviews.py:51\u001b[0m, in \u001b[0;36mAtlasView.__iter__\u001b[0;34m(self)\u001b[0m\n\u001b[1;32m     50\u001b[0m \u001b[39mdef\u001b[39;00m \u001b[39m__iter__\u001b[39m(\u001b[39mself\u001b[39m):\n\u001b[0;32m---> 51\u001b[0m     \u001b[39mreturn\u001b[39;00m \u001b[39miter\u001b[39;49m(\u001b[39mself\u001b[39m\u001b[39m.\u001b[39m_atlas)\n",
      "\u001b[0;31mKeyboardInterrupt\u001b[0m: "
     ]
    }
   ],
   "source": [
    "robustness()"
   ]
  },
  {
   "cell_type": "code",
   "execution_count": 9,
   "metadata": {},
   "outputs": [],
   "source": [
    "def robustness_random_failures():\n",
    "    \"\"\"Robustness Random Failures\n",
    "\n",
    "    This function calculates the relative size of the giant component of the graph w.r.t fraction of nodes randomly removed\n",
    "\n",
    "    :return nodes_giant_comp_list: list of number of nodes of giant component\n",
    "    :return removed_nodes: list of nodes removed\n",
    "    :return pf_div_p0: relative size of the giant component of the graph relative to the number of nodes\n",
    "    \"\"\"\n",
    "    G = build_graph()\n",
    "\n",
    "    num_nodes = len(list(G.nodes()))\n",
    "    removed_nodes = [0]\n",
    "    nodes_giant_comp_list = []\n",
    "    pf_div_p0 = []\n",
    "\n",
    "    nodes_to_be_deleted = 1\n",
    "\n",
    "    rem_counter = 0\n",
    "\n",
    "    for x in tqdm(range(int(num_nodes / nodes_to_be_deleted)-1)):\n",
    "\n",
    "        if x == 0:\n",
    "            list_sub_graphs = list(G.subgraph(c) for c in nx.connected_components(G))\n",
    "\n",
    "            giant_comp = max(list_sub_graphs, key=len)\n",
    "            giant_comp_nodes = len(list(giant_comp.nodes()))\n",
    "            nodes_giant_comp_list.append(giant_comp_nodes)\n",
    "            pf_div_p0.append(giant_comp_nodes / num_nodes)\n",
    "            G_new = G\n",
    "\n",
    "        G_new = remove_node_randomly(G_new, nodes_to_be_deleted)\n",
    "\n",
    "        rem_counter = rem_counter + nodes_to_be_deleted\n",
    "\n",
    "        list_sub_graphs = list(\n",
    "            G_new.subgraph(c) for c in nx.connected_components(G_new)\n",
    "        )\n",
    "        giant_comp = max(list_sub_graphs, key=len)\n",
    "        giant_comp_nodes = len(list(giant_comp.nodes()))\n",
    "        nodes_giant_comp_list.append(giant_comp_nodes)\n",
    "\n",
    "        percent_nodes_removed = rem_counter / num_nodes\n",
    "        removed_nodes.append(percent_nodes_removed)\n",
    "        pf_div_p0.append(giant_comp_nodes / num_nodes)\n",
    "\n",
    "    return nodes_giant_comp_list, removed_nodes, pf_div_p0"
   ]
  },
  {
   "cell_type": "code",
   "execution_count": 10,
   "metadata": {},
   "outputs": [],
   "source": [
    "def robustness_targeted_attacks(centrality):\n",
    "\n",
    "    \"\"\"Robustness Targeted Attacks\n",
    "\n",
    "    This function calculates the relative size of the giant component of the graph w.r.t fraction of most central nodes removed\n",
    "\n",
    "    :param centrality: which centrality to take into account\n",
    "    :type mat: numpy.int64\n",
    "\n",
    "    0 -> degree centrality\n",
    "    1 -> betweenness centrality\n",
    "    2 -> closeness centrality\n",
    "    3 -> eigenvector centrality\n",
    "\n",
    "    :return nodes_giant_comp_list: list of number of nodes of giant component\n",
    "    :return removed_nodes: list of nodes removed\n",
    "    :return pf_div_p0: relative size of the giant component of the graph relative to the number of nodes\n",
    "    \"\"\"\n",
    "\n",
    "    G = build_graph()\n",
    "    (\n",
    "        centrality_measures\n",
    "    ) = compute_centrality(G)\n",
    "\n",
    "    num_nodes = len(list(G.nodes()))\n",
    "    removed_nodes = [0]\n",
    "    nodes_giant_comp_list = []\n",
    "    pf_div_p0 = []\n",
    "\n",
    "    nodes_to_be_deleted = 1\n",
    "\n",
    "    rem_counter = 0\n",
    "\n",
    "    for x in tqdm(range(int(num_nodes / nodes_to_be_deleted)-1)):\n",
    "\n",
    "        if x == 0:\n",
    "            list_sub_graphs = list(G.subgraph(c) for c in nx.connected_components(G))\n",
    "\n",
    "            giant_comp = max(list_sub_graphs, key=len)\n",
    "            giant_comp_nodes = len(list(giant_comp.nodes()))\n",
    "            nodes_giant_comp_list.append(giant_comp_nodes)\n",
    "            pf_div_p0.append(giant_comp_nodes / num_nodes)\n",
    "            G_new = G\n",
    "\n",
    "        \n",
    "        G_new = remove_most_important_nodes(\n",
    "            G_new, nodes_to_be_deleted + x, centrality_measures[centrality]\n",
    "        )\n",
    "\n",
    "        rem_counter = rem_counter + nodes_to_be_deleted\n",
    "\n",
    "        list_sub_graphs = list(\n",
    "            G_new.subgraph(c) for c in nx.connected_components(G_new)\n",
    "        )\n",
    "        giant_comp = max(list_sub_graphs, key=len)\n",
    "        giant_comp_nodes = len(list(giant_comp.nodes()))\n",
    "        nodes_giant_comp_list.append(giant_comp_nodes)\n",
    "\n",
    "        percent_nodes_removed = rem_counter / num_nodes\n",
    "        removed_nodes.append(percent_nodes_removed)\n",
    "        pf_div_p0.append(giant_comp_nodes / num_nodes)\n",
    "\n",
    "    return nodes_giant_comp_list, removed_nodes, pf_div_p0\n",
    "\n",
    "    "
   ]
  },
  {
   "cell_type": "markdown",
   "metadata": {},
   "source": [
    "### Node Removal Simulation\n",
    "\n",
    "We first remove the nodes randomly and next based on the importance of the node based on the centrality measures."
   ]
  },
  {
   "cell_type": "markdown",
   "metadata": {},
   "source": [
    "#### 1) Random Removal"
   ]
  },
  {
   "cell_type": "code",
   "execution_count": 17,
   "metadata": {},
   "outputs": [
    {
     "name": "stderr",
     "output_type": "stream",
     "text": [
      "100%|██████████| 933/933 [00:03<00:00, 243.78it/s]\n"
     ]
    }
   ],
   "source": [
    "(\n",
    "    nodes_giant_comp_list_RND,\n",
    "    removed_nodes_RND,\n",
    "    pf_div_p0_RND,\n",
    ") = robustness_random_failures()"
   ]
  },
  {
   "cell_type": "markdown",
   "metadata": {},
   "source": [
    "#### 2) Degree Centrality"
   ]
  },
  {
   "cell_type": "code",
   "execution_count": 12,
   "metadata": {},
   "outputs": [
    {
     "name": "stderr",
     "output_type": "stream",
     "text": [
      "100%|██████████| 933/933 [00:09<00:00, 101.75it/s]\n"
     ]
    }
   ],
   "source": [
    "(\n",
    "    nodes_giant_comp_list_ATTACK_0,\n",
    "    removed_nodes_ATTACK_0,\n",
    "    pf_div_p0_ATTACK_0,\n",
    ") = robustness_targeted_attacks(0)"
   ]
  },
  {
   "cell_type": "markdown",
   "metadata": {},
   "source": [
    "#### 3) Betweenness Centrality"
   ]
  },
  {
   "cell_type": "code",
   "execution_count": 13,
   "metadata": {},
   "outputs": [
    {
     "name": "stderr",
     "output_type": "stream",
     "text": [
      "100%|██████████| 933/933 [00:08<00:00, 105.39it/s]\n"
     ]
    }
   ],
   "source": [
    "(\n",
    "    nodes_giant_comp_list_ATTACK_1,\n",
    "    removed_nodes_ATTACK_1,\n",
    "    pf_div_p0_ATTACK_1,\n",
    ") = robustness_targeted_attacks(1)"
   ]
  },
  {
   "cell_type": "markdown",
   "metadata": {},
   "source": [
    "#### 4) Closeness Centrality"
   ]
  },
  {
   "cell_type": "code",
   "execution_count": 14,
   "metadata": {},
   "outputs": [
    {
     "name": "stderr",
     "output_type": "stream",
     "text": [
      "100%|██████████| 933/933 [00:08<00:00, 105.79it/s]\n"
     ]
    }
   ],
   "source": [
    "(\n",
    "    nodes_giant_comp_list_ATTACK_2,\n",
    "    removed_nodes_ATTACK_2,\n",
    "    pf_div_p0_ATTACK_2,\n",
    ") = robustness_targeted_attacks(2)"
   ]
  },
  {
   "cell_type": "markdown",
   "metadata": {},
   "source": [
    "#### 5) Eigenvector Centrality"
   ]
  },
  {
   "cell_type": "code",
   "execution_count": 15,
   "metadata": {},
   "outputs": [
    {
     "name": "stderr",
     "output_type": "stream",
     "text": [
      "100%|██████████| 933/933 [00:09<00:00, 103.58it/s]\n"
     ]
    }
   ],
   "source": [
    "(\n",
    "    nodes_giant_comp_list_ATTACK_3,\n",
    "    removed_nodes_ATTACK_3,\n",
    "    pf_div_p0_ATTACK_3,\n",
    ") = robustness_targeted_attacks(3)"
   ]
  },
  {
   "cell_type": "markdown",
   "metadata": {},
   "source": [
    "### Plot"
   ]
  },
  {
   "cell_type": "code",
   "execution_count": 19,
   "metadata": {},
   "outputs": [
    {
     "data": {
      "image/png": "[encoded data removed]",
      "text/plain": [
       "<Figure size 1440x720 with 1 Axes>"
      ]
     },
     "metadata": {
      "needs_background": "light"
     },
     "output_type": "display_data"
    }
   ],
   "source": [
    "fig, ax = plt.subplots(figsize=(20,10)) \n",
    "plt.title(\"Variation of the size of giant components after removing the nodes\")\n",
    "plt.xlabel(\"Percentage of nodes removed\")\n",
    "plt.ylabel(\"Relative size of the giant components\")\n",
    "plt.yscale('log')\n",
    "\n",
    "plt.plot(\n",
    "    removed_nodes_RND,\n",
    "    pf_div_p0_RND,\n",
    "    linestyle=\"-\",\n",
    "    marker=\"x\",\n",
    "    label=\"Randomised failures\",\n",
    "    color=\"blue\",\n",
    "    alpha=1,\n",
    ")\n",
    "plt.plot(\n",
    "    removed_nodes_ATTACK_0,\n",
    "    pf_div_p0_ATTACK_0,\n",
    "    linestyle=\"-\",\n",
    "    marker=\"d\",\n",
    "    label=\"Targeted attacks - degree centrality\",\n",
    "    color=\"red\",\n",
    "    alpha=1,\n",
    ")\n",
    "\n",
    "plt.plot(\n",
    "    removed_nodes_ATTACK_1,\n",
    "    pf_div_p0_ATTACK_1,\n",
    "    linestyle=\"-\",\n",
    "    marker=\"d\",\n",
    "    label=\"Targeted attacks - betweenness centrality\",\n",
    "    color=\"green\",\n",
    "    alpha=1,\n",
    ")\n",
    "\n",
    "plt.plot(\n",
    "    removed_nodes_ATTACK_2,\n",
    "    pf_div_p0_ATTACK_2,\n",
    "    linestyle=\"-\",\n",
    "    marker=\"d\",\n",
    "    label=\"Targeted attacks - closeness centrality\",\n",
    "    color=\"purple\",\n",
    "    alpha=1,\n",
    ")\n",
    "\n",
    "plt.plot(\n",
    "    removed_nodes_ATTACK_3,\n",
    "    pf_div_p0_ATTACK_3,\n",
    "    linestyle=\"-\",\n",
    "    marker=\"d\",\n",
    "    label=\"Targeted attacks - eigenvector centrality\",\n",
    "    color=\"orange\",\n",
    "    alpha=1,\n",
    ")\n",
    "\n",
    "plt.legend()\n",
    "plt.show()\n",
    "fig.savefig(\"robustness_noderemoval.pdf\", format=\"pdf\")\n"
   ]
  }
 ],
 "metadata": {
  "kernelspec": {
   "display_name": "Python 3.9.12 ('base')",
   "language": "python",
   "name": "python3"
  },
  "language_info": {
   "codemirror_mode": {
    "name": "ipython",
    "version": 3
   },
   "file_extension": ".py",
   "mimetype": "text/x-python",
   "name": "python",
   "nbconvert_exporter": "python",
   "pygments_lexer": "ipython3",
   "version": "3.9.12"
  },
  "orig_nbformat": 4,
  "vscode": {
   "interpreter": {
    "hash": "60db49b06dffd1fabef90af0eabdbf7d8889b4aa1a6939d4bdae7d265b04217f"
   }
  }
 },
 "nbformat": 4,
 "nbformat_minor": 2
}

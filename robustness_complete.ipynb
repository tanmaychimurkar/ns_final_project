{
 "cells": [
  {
   "cell_type": "markdown",
   "source": [
    "#### Importing libraries"
   ],
   "metadata": {
    "collapsed": false
   }
  },
  {
   "cell_type": "code",
   "execution_count": 22,
   "metadata": {},
   "outputs": [],
   "source": [
    "import pandas as pd\n",
    "import networkx as nx\n",
    "import matplotlib.pyplot as plt\n",
    "import random \n",
    "import heapq\n",
    "\n",
    "from tqdm import tqdm"
   ]
  },
  {
   "cell_type": "markdown",
   "source": [
    "#### Loading the graph from csv file"
   ],
   "metadata": {
    "collapsed": false
   }
  },
  {
   "cell_type": "code",
   "execution_count": 2,
   "metadata": {},
   "outputs": [],
   "source": [
    "def build_graph():\n",
    "    df = pd.read_csv('top_1000_by_liquidity.csv')\n",
    "    G = nx.from_pandas_edgelist(df, source='token0.symbol', target='token1.symbol', edge_attr='reserveUSD', create_using=nx.Graph().to_undirected())\n",
    "    return G"
   ]
  },
  {
   "cell_type": "markdown",
   "source": [
    "#### Functions to remove nodes based on logic"
   ],
   "metadata": {
    "collapsed": false
   }
  },
  {
   "cell_type": "code",
   "execution_count": 3,
   "metadata": {},
   "outputs": [],
   "source": [
    "def remove_node_randomly(G, num):\n",
    "    \"\"\" Remove Node Randomly\n",
    "\n",
    "    This function removes nodes randomly from the full graph and returns the remaining graph\n",
    "\n",
    "    :param G: the input graph\n",
    "    :param num: number of nodes to remove at random\n",
    "    :return g_rem: the remaining graph with nodes randomly removed\n",
    "    \"\"\"\n",
    "    g_rem = G.copy()\n",
    "    nodes_g = list(g_rem.nodes)\n",
    "    ran_sample = random.sample(nodes_g, num)\n",
    "    g_rem.remove_nodes_from(ran_sample)\n",
    "    \n",
    "    return g_rem\n"
   ]
  },
  {
   "cell_type": "code",
   "execution_count": 4,
   "metadata": {},
   "outputs": [],
   "source": [
    "def remove_most_important_nodes(G, num, centrality_measure):\n",
    "    \"\"\" Remove Most Important Nodes\n",
    "\n",
    "    This function removes the most important node from the input graph, with the importance of the node being determined by the centrality measure\n",
    "\n",
    "    :param num: the number of most important nodes to remove\n",
    "    :param G: the input graph\n",
    "    :param centrality_measure: the centrality measure used  #todo: verify this with Kartikey\n",
    "    :return g_rem: the remaining graph with the most important node removed\n",
    "    \"\"\"\n",
    "    g_rem = G.copy()\n",
    "    rem_sample = heapq.nlargest(num, centrality_measure, key=centrality_measure.get)\n",
    "    g_rem.remove_nodes_from(rem_sample)\n",
    "\n",
    "    return g_rem\n"
   ]
  },
  {
   "cell_type": "markdown",
   "source": [
    "#### Function to check robustness - based on Diameter of the Graph"
   ],
   "metadata": {
    "collapsed": false
   }
  },
  {
   "cell_type": "code",
   "execution_count": 11,
   "metadata": {},
   "outputs": [],
   "source": [
    "def robustness():\n",
    "    \"\"\" Robustness\n",
    "\n",
    "    This function calculates the min, max and avg. diameter across all the subgraphs in the network by iteratively removing one node randomly from the input graph\n",
    "\n",
    "    :return: list of all the min, max, and avg. diameter values\n",
    "    \"\"\"\n",
    "    G = build_graph()\n",
    "    num_nodes = len(list(G.nodes()))\n",
    "\n",
    "    diameter_list_min = []\n",
    "    diameter_list_max = []\n",
    "    diameter_list_average = []\n",
    "    num_of_sugraphs_list = []\n",
    "\n",
    "    removed_nodes = [0]\n",
    "    nodes_to_be_deleted = 10\n",
    "    rem_counter  = 0 \n",
    "\n",
    "    for x in tqdm(range(int(num_nodes/nodes_to_be_deleted))):\n",
    "\n",
    "        if x == 0:\n",
    "            list_sub_graphs = list(G.subgraph(c) for c in nx.connected_components(G))\n",
    "\n",
    "            num_of_sugraphs_list.append(len(list_sub_graphs))\n",
    "            diameters = [nx.diameter(subgraph) for subgraph in list_sub_graphs]\n",
    "            diameter_list_min.append(min(diameters))\n",
    "            diameter_list_max.append(max(diameters))\n",
    "            diameter_list_average.append(sum(diameters)/len(diameters))\n",
    "\n",
    "        G_new = remove_node_randomly(G, nodes_to_be_deleted)\n",
    "        rem_counter = rem_counter + nodes_to_be_deleted\n",
    "        \n",
    "        list_sub_graphs = list(G_new.subgraph(c) for c in nx.connected_components(G_new))\n",
    "\n",
    "        num_of_sugraphs_list.append(len(list_sub_graphs))\n",
    "        diameters = [nx.diameter(subgraph) for subgraph in list_sub_graphs]\n",
    "        diameter_list_min.append(min(diameters))\n",
    "        diameter_list_max.append(max(diameters))\n",
    "        diameter_list_average.append(sum(diameters)/len(diameters))\n",
    "        removed_nodes.append(rem_counter)\n",
    "\n",
    "    plt.figure(figsize=(12,8))\n",
    "    plt.title(\"Variation of the diameter values across all subgraphs of the network\")\n",
    "    plt.xlabel(\"Number of nodes removed\")\n",
    "    plt.ylabel(\"diameter values across all subgraphs\")\n",
    "    plt.plot(removed_nodes, diameter_list_min, linestyle=\"-\", marker=\"o\", label=\"min diameter across all subgraphs\", color=\"blue\", alpha=0.2)\n",
    "    plt.plot(removed_nodes, diameter_list_max, linestyle=\"-\", marker=\"o\", label=\"max diameter across all subgraphs\", color=\"blue\", alpha=0.2)\n",
    "    plt.plot(removed_nodes, diameter_list_average, linestyle=\"-\", marker=\"o\", label=\"average diameter across all subgraphs\", color=\"red\")\n",
    "    plt.legend()\n",
    "    plt.show()\n",
    "\n",
    "    "
   ]
  },
  {
   "cell_type": "code",
   "execution_count": 12,
   "metadata": {},
   "outputs": [],
   "source": [
    "def compute_centrality(G):\n",
    "    \"\"\" Compute Centrality\n",
    "\n",
    "    This function computes different centrality measures for the input graph. The following centrality measures are comptued:\n",
    "        Degree centrality, betweenness centrality, closeness centrality, eigenvector centrality,\n",
    "\n",
    "    :param G: the input graph\n",
    "    :return: centrality measures of the graph\n",
    "    \"\"\"\n",
    "    degree_centrality = nx.degree_centrality(G)\n",
    "    between_centrality = nx.betweenness_centrality(G)\n",
    "    close_centrality = nx.closeness_centrality(G)\n",
    "    eigen_centrality = nx.eigenvector_centrality_numpy(G)\n",
    "\n",
    "    max_degree_centrality = max(degree_centrality, key=degree_centrality.get)\n",
    "    return degree_centrality, between_centrality, close_centrality, eigen_centrality, max_degree_centrality\n"
   ]
  },
  {
   "cell_type": "code",
   "execution_count": 18,
   "metadata": {},
   "outputs": [],
   "source": [
    "def centrality_properties():\n",
    "    \"\"\"Centrality Properties\n",
    "\n",
    "    This function creates a pandas DataFrame from the centrality measures computed in Compute Centrality function, and sorts them by the degree centrality\n",
    "\n",
    "    :return: pandas DataFrame containing the centrality metrics of the input graph\n",
    "    \"\"\"\n",
    "\n",
    "    G = build_graph()\n",
    "\n",
    "    (\n",
    "        degree_centrality,\n",
    "        between_centrality,\n",
    "        close_centrality,\n",
    "        eigen_centrality,\n",
    "        _,\n",
    "    ) = compute_centrality(G)\n",
    "\n",
    "    centrality_list = pd.DataFrame(\n",
    "        {\n",
    "            \"deg_cent\": degree_centrality,\n",
    "            \"betw_cent\": between_centrality,\n",
    "            \"closeness_cent\": close_centrality,\n",
    "            \"eigen_cent\": eigen_centrality,\n",
    "        }\n",
    "    )\n",
    "\n",
    "    sorted_centrality_list = centrality_list.sort_values(\n",
    "        by=[\"deg_cent\"], ascending=False\n",
    "    )\n",
    "\n",
    "    return sorted_centrality_list"
   ]
  },
  {
   "cell_type": "code",
   "execution_count": 20,
   "metadata": {},
   "outputs": [
    {
     "data": {
      "text/plain": "           deg_cent  betw_cent  closeness_cent  eigen_cent\nWETH       0.817792   0.889173        0.826662    0.705202\nUSDC       0.092176   0.122840        0.492449    0.052105\nUSDT       0.055734   0.064430        0.481828    0.046791\nDAI        0.015005   0.014453        0.471395    0.033412\nMYTH       0.007503   0.006148        0.460652    0.028522\n...             ...        ...             ...         ...\nUSDI       0.001072   0.000000        0.443101    0.025438\nLOOT       0.001072   0.000000        0.443101    0.025438\nETH2x-FLI  0.001072   0.000000        0.443101    0.025438\nPOLC       0.001072   0.000000        0.443101    0.025438\nεχοτїχ     0.001072   0.000000        0.443101    0.025438\n\n[934 rows x 4 columns]",
      "text/html": "<div>\n<style scoped>\n    .dataframe tbody tr th:only-of-type {\n        vertical-align: middle;\n    }\n\n    .dataframe tbody tr th {\n        vertical-align: top;\n    }\n\n    .dataframe thead th {\n        text-align: right;\n    }\n</style>\n<table border=\"1\" class=\"dataframe\">\n  <thead>\n    <tr style=\"text-align: right;\">\n      <th></th>\n      <th>deg_cent</th>\n      <th>betw_cent</th>\n      <th>closeness_cent</th>\n      <th>eigen_cent</th>\n    </tr>\n  </thead>\n  <tbody>\n    <tr>\n      <th>WETH</th>\n      <td>0.817792</td>\n      <td>0.889173</td>\n      <td>0.826662</td>\n      <td>0.705202</td>\n    </tr>\n    <tr>\n      <th>USDC</th>\n      <td>0.092176</td>\n      <td>0.122840</td>\n      <td>0.492449</td>\n      <td>0.052105</td>\n    </tr>\n    <tr>\n      <th>USDT</th>\n      <td>0.055734</td>\n      <td>0.064430</td>\n      <td>0.481828</td>\n      <td>0.046791</td>\n    </tr>\n    <tr>\n      <th>DAI</th>\n      <td>0.015005</td>\n      <td>0.014453</td>\n      <td>0.471395</td>\n      <td>0.033412</td>\n    </tr>\n    <tr>\n      <th>MYTH</th>\n      <td>0.007503</td>\n      <td>0.006148</td>\n      <td>0.460652</td>\n      <td>0.028522</td>\n    </tr>\n    <tr>\n      <th>...</th>\n      <td>...</td>\n      <td>...</td>\n      <td>...</td>\n      <td>...</td>\n    </tr>\n    <tr>\n      <th>USDI</th>\n      <td>0.001072</td>\n      <td>0.000000</td>\n      <td>0.443101</td>\n      <td>0.025438</td>\n    </tr>\n    <tr>\n      <th>LOOT</th>\n      <td>0.001072</td>\n      <td>0.000000</td>\n      <td>0.443101</td>\n      <td>0.025438</td>\n    </tr>\n    <tr>\n      <th>ETH2x-FLI</th>\n      <td>0.001072</td>\n      <td>0.000000</td>\n      <td>0.443101</td>\n      <td>0.025438</td>\n    </tr>\n    <tr>\n      <th>POLC</th>\n      <td>0.001072</td>\n      <td>0.000000</td>\n      <td>0.443101</td>\n      <td>0.025438</td>\n    </tr>\n    <tr>\n      <th>εχοτїχ</th>\n      <td>0.001072</td>\n      <td>0.000000</td>\n      <td>0.443101</td>\n      <td>0.025438</td>\n    </tr>\n  </tbody>\n</table>\n<p>934 rows × 4 columns</p>\n</div>"
     },
     "execution_count": 20,
     "metadata": {},
     "output_type": "execute_result"
    }
   ],
   "source": [
    "sorted_centrality_list = centrality_properties()\n",
    "sorted_centrality_list"
   ]
  },
  {
   "cell_type": "code",
   "execution_count": 23,
   "metadata": {},
   "outputs": [
    {
     "name": "stderr",
     "output_type": "stream",
     "text": [
      "  8%|▊         | 7/93 [00:42<08:47,  6.14s/it]\n"
     ]
    },
    {
     "ename": "KeyboardInterrupt",
     "evalue": "",
     "output_type": "error",
     "traceback": [
      "\u001B[0;31m---------------------------------------------------------------------------\u001B[0m",
      "\u001B[0;31mKeyboardInterrupt\u001B[0m                         Traceback (most recent call last)",
      "Cell \u001B[0;32mIn [23], line 1\u001B[0m\n\u001B[0;32m----> 1\u001B[0m \u001B[43mrobustness\u001B[49m\u001B[43m(\u001B[49m\u001B[43m)\u001B[49m\n",
      "Cell \u001B[0;32mIn [11], line 37\u001B[0m, in \u001B[0;36mrobustness\u001B[0;34m()\u001B[0m\n\u001B[1;32m     34\u001B[0m list_sub_graphs \u001B[38;5;241m=\u001B[39m \u001B[38;5;28mlist\u001B[39m(G_new\u001B[38;5;241m.\u001B[39msubgraph(c) \u001B[38;5;28;01mfor\u001B[39;00m c \u001B[38;5;129;01min\u001B[39;00m nx\u001B[38;5;241m.\u001B[39mconnected_components(G_new))\n\u001B[1;32m     36\u001B[0m num_of_sugraphs_list\u001B[38;5;241m.\u001B[39mappend(\u001B[38;5;28mlen\u001B[39m(list_sub_graphs))\n\u001B[0;32m---> 37\u001B[0m diameters \u001B[38;5;241m=\u001B[39m [nx\u001B[38;5;241m.\u001B[39mdiameter(subgraph) \u001B[38;5;28;01mfor\u001B[39;00m subgraph \u001B[38;5;129;01min\u001B[39;00m list_sub_graphs]\n\u001B[1;32m     38\u001B[0m diameter_list_min\u001B[38;5;241m.\u001B[39mappend(\u001B[38;5;28mmin\u001B[39m(diameters))\n\u001B[1;32m     39\u001B[0m diameter_list_max\u001B[38;5;241m.\u001B[39mappend(\u001B[38;5;28mmax\u001B[39m(diameters))\n",
      "Cell \u001B[0;32mIn [11], line 37\u001B[0m, in \u001B[0;36m<listcomp>\u001B[0;34m(.0)\u001B[0m\n\u001B[1;32m     34\u001B[0m list_sub_graphs \u001B[38;5;241m=\u001B[39m \u001B[38;5;28mlist\u001B[39m(G_new\u001B[38;5;241m.\u001B[39msubgraph(c) \u001B[38;5;28;01mfor\u001B[39;00m c \u001B[38;5;129;01min\u001B[39;00m nx\u001B[38;5;241m.\u001B[39mconnected_components(G_new))\n\u001B[1;32m     36\u001B[0m num_of_sugraphs_list\u001B[38;5;241m.\u001B[39mappend(\u001B[38;5;28mlen\u001B[39m(list_sub_graphs))\n\u001B[0;32m---> 37\u001B[0m diameters \u001B[38;5;241m=\u001B[39m [\u001B[43mnx\u001B[49m\u001B[38;5;241;43m.\u001B[39;49m\u001B[43mdiameter\u001B[49m\u001B[43m(\u001B[49m\u001B[43msubgraph\u001B[49m\u001B[43m)\u001B[49m \u001B[38;5;28;01mfor\u001B[39;00m subgraph \u001B[38;5;129;01min\u001B[39;00m list_sub_graphs]\n\u001B[1;32m     38\u001B[0m diameter_list_min\u001B[38;5;241m.\u001B[39mappend(\u001B[38;5;28mmin\u001B[39m(diameters))\n\u001B[1;32m     39\u001B[0m diameter_list_max\u001B[38;5;241m.\u001B[39mappend(\u001B[38;5;28mmax\u001B[39m(diameters))\n",
      "File \u001B[0;32m~/.pyenv/versions/m_project/lib/python3.10/site-packages/networkx/algorithms/distance_measures.py:388\u001B[0m, in \u001B[0;36mdiameter\u001B[0;34m(G, e, usebounds)\u001B[0m\n\u001B[1;32m    386\u001B[0m     \u001B[38;5;28;01mreturn\u001B[39;00m _extrema_bounding(G, compute\u001B[38;5;241m=\u001B[39m\u001B[38;5;124m\"\u001B[39m\u001B[38;5;124mdiameter\u001B[39m\u001B[38;5;124m\"\u001B[39m)\n\u001B[1;32m    387\u001B[0m \u001B[38;5;28;01mif\u001B[39;00m e \u001B[38;5;129;01mis\u001B[39;00m \u001B[38;5;28;01mNone\u001B[39;00m:\n\u001B[0;32m--> 388\u001B[0m     e \u001B[38;5;241m=\u001B[39m \u001B[43meccentricity\u001B[49m\u001B[43m(\u001B[49m\u001B[43mG\u001B[49m\u001B[43m)\u001B[49m\n\u001B[1;32m    389\u001B[0m \u001B[38;5;28;01mreturn\u001B[39;00m \u001B[38;5;28mmax\u001B[39m(e\u001B[38;5;241m.\u001B[39mvalues())\n",
      "File \u001B[0;32m~/.pyenv/versions/m_project/lib/python3.10/site-packages/networkx/algorithms/distance_measures.py:331\u001B[0m, in \u001B[0;36meccentricity\u001B[0;34m(G, v, sp)\u001B[0m\n\u001B[1;32m    329\u001B[0m \u001B[38;5;28;01mfor\u001B[39;00m n \u001B[38;5;129;01min\u001B[39;00m G\u001B[38;5;241m.\u001B[39mnbunch_iter(v):\n\u001B[1;32m    330\u001B[0m     \u001B[38;5;28;01mif\u001B[39;00m sp \u001B[38;5;129;01mis\u001B[39;00m \u001B[38;5;28;01mNone\u001B[39;00m:\n\u001B[0;32m--> 331\u001B[0m         length \u001B[38;5;241m=\u001B[39m \u001B[43mnx\u001B[49m\u001B[38;5;241;43m.\u001B[39;49m\u001B[43msingle_source_shortest_path_length\u001B[49m\u001B[43m(\u001B[49m\u001B[43mG\u001B[49m\u001B[43m,\u001B[49m\u001B[43m \u001B[49m\u001B[43mn\u001B[49m\u001B[43m)\u001B[49m\n\u001B[1;32m    332\u001B[0m         L \u001B[38;5;241m=\u001B[39m \u001B[38;5;28mlen\u001B[39m(length)\n\u001B[1;32m    333\u001B[0m     \u001B[38;5;28;01melse\u001B[39;00m:\n",
      "File \u001B[0;32m~/.pyenv/versions/m_project/lib/python3.10/site-packages/networkx/algorithms/shortest_paths/unweighted.py:59\u001B[0m, in \u001B[0;36msingle_source_shortest_path_length\u001B[0;34m(G, source, cutoff)\u001B[0m\n\u001B[1;32m     57\u001B[0m     cutoff \u001B[38;5;241m=\u001B[39m \u001B[38;5;28mfloat\u001B[39m(\u001B[38;5;124m\"\u001B[39m\u001B[38;5;124minf\u001B[39m\u001B[38;5;124m\"\u001B[39m)\n\u001B[1;32m     58\u001B[0m nextlevel \u001B[38;5;241m=\u001B[39m {source: \u001B[38;5;241m1\u001B[39m}\n\u001B[0;32m---> 59\u001B[0m \u001B[38;5;28;01mreturn\u001B[39;00m \u001B[38;5;28;43mdict\u001B[39;49m\u001B[43m(\u001B[49m\u001B[43m_single_shortest_path_length\u001B[49m\u001B[43m(\u001B[49m\u001B[43mG\u001B[49m\u001B[38;5;241;43m.\u001B[39;49m\u001B[43madj\u001B[49m\u001B[43m,\u001B[49m\u001B[43m \u001B[49m\u001B[43mnextlevel\u001B[49m\u001B[43m,\u001B[49m\u001B[43m \u001B[49m\u001B[43mcutoff\u001B[49m\u001B[43m)\u001B[49m\u001B[43m)\u001B[49m\n",
      "File \u001B[0;32m~/.pyenv/versions/m_project/lib/python3.10/site-packages/networkx/algorithms/shortest_paths/unweighted.py:91\u001B[0m, in \u001B[0;36m_single_shortest_path_length\u001B[0;34m(adj, firstlevel, cutoff)\u001B[0m\n\u001B[1;32m     89\u001B[0m         \u001B[38;5;28;01mreturn\u001B[39;00m\n\u001B[1;32m     90\u001B[0m     \u001B[38;5;28;01mfor\u001B[39;00m v \u001B[38;5;129;01min\u001B[39;00m found:\n\u001B[0;32m---> 91\u001B[0m         \u001B[43mnextlevel\u001B[49m\u001B[38;5;241;43m.\u001B[39;49m\u001B[43mupdate\u001B[49m\u001B[43m(\u001B[49m\u001B[43madj\u001B[49m\u001B[43m[\u001B[49m\u001B[43mv\u001B[49m\u001B[43m]\u001B[49m\u001B[43m)\u001B[49m\n\u001B[1;32m     92\u001B[0m     level \u001B[38;5;241m+\u001B[39m\u001B[38;5;241m=\u001B[39m \u001B[38;5;241m1\u001B[39m\n\u001B[1;32m     93\u001B[0m \u001B[38;5;28;01mdel\u001B[39;00m seen\n",
      "File \u001B[0;32m~/.pyenv/versions/m_project/lib/python3.10/site-packages/networkx/classes/coreviews.py:50\u001B[0m, in \u001B[0;36mAtlasView.__iter__\u001B[0;34m(self)\u001B[0m\n\u001B[1;32m     47\u001B[0m \u001B[38;5;28;01mdef\u001B[39;00m \u001B[38;5;21m__len__\u001B[39m(\u001B[38;5;28mself\u001B[39m):\n\u001B[1;32m     48\u001B[0m     \u001B[38;5;28;01mreturn\u001B[39;00m \u001B[38;5;28mlen\u001B[39m(\u001B[38;5;28mself\u001B[39m\u001B[38;5;241m.\u001B[39m_atlas)\n\u001B[0;32m---> 50\u001B[0m \u001B[38;5;28;01mdef\u001B[39;00m \u001B[38;5;21m__iter__\u001B[39m(\u001B[38;5;28mself\u001B[39m):\n\u001B[1;32m     51\u001B[0m     \u001B[38;5;28;01mreturn\u001B[39;00m \u001B[38;5;28miter\u001B[39m(\u001B[38;5;28mself\u001B[39m\u001B[38;5;241m.\u001B[39m_atlas)\n\u001B[1;32m     53\u001B[0m \u001B[38;5;28;01mdef\u001B[39;00m \u001B[38;5;21m__getitem__\u001B[39m(\u001B[38;5;28mself\u001B[39m, key):\n",
      "\u001B[0;31mKeyboardInterrupt\u001B[0m: "
     ]
    }
   ],
   "source": [
    "robustness()"
   ]
  },
  {
   "cell_type": "code",
   "execution_count": 35,
   "metadata": {},
   "outputs": [],
   "source": [
    "def robustness_random_failures():\n",
    "    \"\"\"Robustness Random Failures\n",
    "\n",
    "    This function calculates the relative size of the giant component of the graph w.r.t fraction of nodes randomly removed\n",
    "\n",
    "    :return nodes_giant_comp_list: list of number of nodes of giant component\n",
    "    :return removed_nodes: list of nodes removed\n",
    "    :return pf_div_p0: relative size of the giant component of the graph relative to the number of nodes\n",
    "    \"\"\"\n",
    "    G = build_graph()\n",
    "\n",
    "    num_nodes = len(list(G.nodes()))\n",
    "    removed_nodes = [0]\n",
    "    nodes_giant_comp_list = []\n",
    "    pf_div_p0 = []\n",
    "\n",
    "    nodes_to_be_deleted = 1\n",
    "\n",
    "    rem_counter = 0\n",
    "\n",
    "    for x in tqdm(range(int(num_nodes / nodes_to_be_deleted) - 1)):\n",
    "\n",
    "        if x == 0:\n",
    "            list_sub_graphs = list(G.subgraph(c) for c in nx.connected_components(G))\n",
    "\n",
    "            giant_comp = max(list_sub_graphs, key=len)\n",
    "            giant_comp_nodes = len(list(giant_comp.nodes()))\n",
    "            nodes_giant_comp_list.append(giant_comp_nodes)\n",
    "            pf_div_p0.append(giant_comp_nodes / num_nodes)\n",
    "            G_new = G\n",
    "\n",
    "        G_new = remove_node_randomly(G_new, nodes_to_be_deleted)\n",
    "\n",
    "        rem_counter = rem_counter + nodes_to_be_deleted\n",
    "\n",
    "        list_sub_graphs = list(\n",
    "            G_new.subgraph(c) for c in nx.connected_components(G_new)\n",
    "        )\n",
    "        giant_comp = max(list_sub_graphs, key=len)\n",
    "        giant_comp_nodes = len(list(giant_comp.nodes()))\n",
    "        nodes_giant_comp_list.append(giant_comp_nodes)\n",
    "\n",
    "        percent_nodes_removed = rem_counter / num_nodes\n",
    "        removed_nodes.append(percent_nodes_removed)\n",
    "        pf_div_p0.append(giant_comp_nodes / num_nodes)\n",
    "\n",
    "    return nodes_giant_comp_list, removed_nodes, pf_div_p0"
   ]
  },
  {
   "cell_type": "code",
   "execution_count": 39,
   "metadata": {},
   "outputs": [],
   "source": [
    "def robustness_targeted_attacks():\n",
    "\n",
    "    \"\"\"Robustness Targeted Attacks\n",
    "\n",
    "    This function calculates the relative size of the giant component of the graph w.r.t fraction of most central nodes removed\n",
    "\n",
    "    :return nodes_giant_comp_list: list of number of nodes of giant component\n",
    "    :return removed_nodes: list of nodes removed\n",
    "    :return pf_div_p0: relative size of the giant component of the graph relative to the number of nodes\n",
    "    \"\"\"\n",
    "\n",
    "    G = build_graph()\n",
    "    (\n",
    "        degree_centrality,\n",
    "        between_centrality,\n",
    "        close_centrality,\n",
    "        eigen_centrality,\n",
    "        token_with_max_centrality,\n",
    "    ) = compute_centrality(G)\n",
    "\n",
    "    num_nodes = len(list(G.nodes()))\n",
    "    removed_nodes = [0]\n",
    "    nodes_giant_comp_list = []\n",
    "    pf_div_p0 = []\n",
    "\n",
    "    nodes_to_be_deleted = 1\n",
    "\n",
    "    rem_counter = 0\n",
    "\n",
    "    for x in tqdm(range(int(num_nodes / nodes_to_be_deleted) - 1)):\n",
    "\n",
    "        if x == 0:\n",
    "            list_sub_graphs = list(G.subgraph(c) for c in nx.connected_components(G))\n",
    "\n",
    "            giant_comp = max(list_sub_graphs, key=len)\n",
    "            giant_comp_nodes = len(list(giant_comp.nodes()))\n",
    "            nodes_giant_comp_list.append(giant_comp_nodes)\n",
    "            pf_div_p0.append(giant_comp_nodes / num_nodes)\n",
    "            G_new = G\n",
    "\n",
    "        G_new = remove_most_important_nodes(\n",
    "            G_new, nodes_to_be_deleted, degree_centrality\n",
    "        )\n",
    "\n",
    "        rem_counter = rem_counter + nodes_to_be_deleted\n",
    "\n",
    "        list_sub_graphs = list(\n",
    "            G_new.subgraph(c) for c in nx.connected_components(G_new)\n",
    "        )\n",
    "        giant_comp = max(list_sub_graphs, key=len)\n",
    "        giant_comp_nodes = len(list(giant_comp.nodes()))\n",
    "        nodes_giant_comp_list.append(giant_comp_nodes)\n",
    "\n",
    "        percent_nodes_removed = rem_counter / num_nodes\n",
    "        removed_nodes.append(percent_nodes_removed)\n",
    "        pf_div_p0.append(giant_comp_nodes / num_nodes)\n",
    "\n",
    "    return nodes_giant_comp_list, removed_nodes, pf_div_p0\n",
    "\n",
    "    "
   ]
  },
  {
   "cell_type": "code",
   "execution_count": 40,
   "metadata": {},
   "outputs": [
    {
     "name": "stderr",
     "output_type": "stream",
     "text": [
      "100%|██████████| 933/933 [00:05<00:00, 174.06it/s]\n",
      "100%|██████████| 933/933 [00:24<00:00, 38.35it/s]\n"
     ]
    }
   ],
   "source": [
    "(\n",
    "    nodes_giant_comp_list_RND,\n",
    "    removed_nodes_RND,\n",
    "    pf_div_p0_RND,\n",
    ") = robustness_random_failures()\n",
    "(\n",
    "    nodes_giant_comp_list_ATTACK,\n",
    "    removed_nodes_ATTACK,\n",
    "    pf_div_p0_ATTACK,\n",
    ") = robustness_targeted_attacks()"
   ]
  },
  {
   "cell_type": "code",
   "execution_count": 41,
   "metadata": {},
   "outputs": [
    {
     "data": {
      "text/plain": "<Figure size 1200x800 with 1 Axes>",
      "image/png": "[encoded data removed]"
     },
     "metadata": {},
     "output_type": "display_data"
    }
   ],
   "source": [
    "plt.figure(figsize=(12, 8))\n",
    "plt.title(\"Variation of the size of giant components after removing the nodes\")\n",
    "plt.xlabel(\"Percentage of nodes removed\")\n",
    "plt.ylabel(\"Relative size of the giant components\")\n",
    "plt.plot(\n",
    "    removed_nodes_RND,\n",
    "    pf_div_p0_RND,\n",
    "    linestyle=\"-\",\n",
    "    marker=\"o\",\n",
    "    label=\"Randomised failures\",\n",
    "    color=\"blue\",\n",
    "    alpha=1,\n",
    ")\n",
    "plt.plot(\n",
    "    removed_nodes_ATTACK,\n",
    "    pf_div_p0_ATTACK,\n",
    "    linestyle=\"-\",\n",
    "    marker=\"o\",\n",
    "    label=\"Targetetd attacks\",\n",
    "    color=\"red\",\n",
    "    alpha=1,\n",
    ")\n",
    "\n",
    "plt.legend()\n",
    "plt.show()"
   ]
  },
  {
   "cell_type": "code",
   "execution_count": null,
   "outputs": [],
   "source": [],
   "metadata": {
    "collapsed": false
   }
  }
 ],
 "metadata": {
  "interpreter": {
   "hash": "a0c00941c6b14915f6f5d9ca80283f4f76b1cb4a712ef98e0332a2530f0d553f"
  },
  "kernelspec": {
   "display_name": "Python 3.10.3 64-bit ('atai_proj')",
   "name": "python3"
  },
  "language_info": {
   "codemirror_mode": {
    "name": "ipython",
    "version": 3
   },
   "file_extension": ".py",
   "mimetype": "text/x-python",
   "name": "python",
   "nbconvert_exporter": "python",
   "pygments_lexer": "ipython3",
   "version": "3.9.10"
  },
  "orig_nbformat": 4,
  "vscode": {
   "interpreter": {
    "hash": "67a5ce8ee9894d27838de8959cf91e296dad5afec239c32ec36c435764d630ff"
   }
  }
 },
 "nbformat": 4,
 "nbformat_minor": 2
}

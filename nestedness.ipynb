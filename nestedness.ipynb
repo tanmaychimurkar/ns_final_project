{
 "cells": [
  {
   "cell_type": "markdown",
   "metadata": {
    "collapsed": false
   },
   "source": [
    "#### Importing Libraries"
   ]
  },
  {
   "cell_type": "code",
   "execution_count": 124,
   "metadata": {},
   "outputs": [],
   "source": [
    "import networkx as nx\n",
    "import numpy as np\n",
    "import pandas as pd\n",
    "import matplotlib.pyplot as plt\n",
    "from matplotlib import patches\n",
    "import seaborn as sns\n",
    "\n",
    "from centrality import *"
   ]
  },
  {
   "cell_type": "markdown",
   "metadata": {
    "collapsed": false
   },
   "source": [
    "#### Class for Computing the NODF Nestedness"
   ]
  },
  {
   "cell_type": "code",
   "execution_count": 2,
   "metadata": {
    "collapsed": false
   },
   "outputs": [],
   "source": [
    "class NestednessCalculator(object):\n",
    "    \"\"\"Calculates the nestedness of the input matrix.\n",
    "\n",
    "    The algorithms that have been implemented are:\n",
    "        - NODF (Nestedness based on Overlap and Decreasing Fill)\n",
    "    \"\"\"\n",
    "\n",
    "    def __init__(self, mat):\n",
    "        \"\"\"Initialize the Nestedness calculator and check the input matrix.\n",
    "\n",
    "        :param mat: binary input matrix\n",
    "        :type mat: numpy.array\n",
    "        \"\"\"\n",
    "        self.check_input_matrix_is_binary(mat)\n",
    "        self.check_degrees(mat)\n",
    "\n",
    "    @staticmethod\n",
    "    def check_input_matrix_is_binary(mat):\n",
    "        \"\"\"Check that the input matrix is binary, i.e. entries are 0 or 1.\n",
    "\n",
    "        :param mat: binary input matrix\n",
    "        :type mat: numpy.array\n",
    "\n",
    "        :raise AssertionError: raise an error if the input matrix is not\n",
    "            binary\n",
    "        \"\"\"\n",
    "        assert np.all(np.logical_or(mat == 0, mat == 1)), \"Input matrix is not binary.\"\n",
    "\n",
    "    @staticmethod\n",
    "    def check_degrees(mat):\n",
    "        \"\"\"Check that rows and columns are not completely zero.\n",
    "\n",
    "        :param mat: binary input matrix\n",
    "        :type mat: numpy.array\n",
    "\n",
    "        :raise AssertionError: raise an error if the input matrix has\n",
    "            completely zero rows or columns.\n",
    "        \"\"\"\n",
    "        assert np.all(mat.sum(axis=1) != 0), \"Input matrix rows with only zeros, abort.\"\n",
    "        assert np.all(\n",
    "            mat.sum(axis=0) != 0\n",
    "        ), \"Input matrix columns with only zeros, abort.\"\n",
    "\n",
    "    ################################################################################\n",
    "    # NODF - Nestedness based on Overlap and Decreasing Fill\n",
    "    ################################################################################\n",
    "\n",
    "    @staticmethod\n",
    "    def get_paired_nestedness(mat, rows=True):\n",
    "        \"\"\"Calculate the paired nestedness along the rows or columns of the matrix.\n",
    "\n",
    "        :param mat: binary input matrix\n",
    "        :type mat: numpy.array\n",
    "        :param rows: if True, pairs are calculated along the rows, if False\n",
    "            along the columns\n",
    "        :type rows: bool\n",
    "\n",
    "        :returns: degree of paired nestedness\n",
    "        :rtype: float\n",
    "        \"\"\"\n",
    "        if rows:\n",
    "            # consider rows\n",
    "            po_mat = np.dot(mat, mat.T)\n",
    "            degrees = mat.sum(axis=1)\n",
    "        else:\n",
    "            # consider cols\n",
    "            po_mat = np.dot(mat.T, mat)\n",
    "            degrees = mat.sum(axis=0)\n",
    "        assert len(degrees) == len(po_mat)\n",
    "\n",
    "        neg_delta = degrees != degrees[:, np.newaxis]\n",
    "        deg_matrix = degrees * np.ones_like(po_mat)\n",
    "        deg_minima = np.minimum(deg_matrix, deg_matrix.T)\n",
    "        n_pairs = po_mat[neg_delta] / (2.0 * deg_minima[neg_delta])\n",
    "        return n_pairs.sum()\n",
    "\n",
    "    def nodf(self, mat):\n",
    "        \"\"\"Calculate the NODF nestedness of the input matrix.\n",
    "\n",
    "        :param mat: binary input matrix\n",
    "        :type mat: numpy.array\n",
    "\n",
    "        :returns: NODF nestedness of the input matrix\n",
    "        :rtype: float\n",
    "        \"\"\"\n",
    "        n_pairs_rows = self.get_paired_nestedness(mat, rows=True)\n",
    "        n_pairs_cols = self.get_paired_nestedness(mat, rows=False)\n",
    "        norm = np.sum(np.array(mat.shape) * (np.array(mat.shape) - 1) / 2.0)\n",
    "        nodf = (n_pairs_rows + n_pairs_cols) / norm\n",
    "        return nodf"
   ]
  },
  {
   "cell_type": "markdown",
   "metadata": {
    "collapsed": false
   },
   "source": [
    "#### Loading the Liquidity Graph"
   ]
  },
  {
   "cell_type": "code",
   "execution_count": 25,
   "metadata": {},
   "outputs": [],
   "source": [
    "def build_graph():\n",
    "    \"\"\"Build a graph from the 'top_1000_by_liquidity.csv' file, but without the weights since we want to calculate the nestedness.\n",
    "\n",
    "    :returns: The built network\n",
    "    :rtype: nx.Graph\n",
    "    \"\"\"\n",
    "    df = pd.read_csv('top_1000_by_liquidity.csv')\n",
    "    # G = nx.from_pandas_edgelist(df, source='token0.symbol', target='token1.symbol', edge_attr='reserveUSD', create_using=nx.Graph().to_undirected())\n",
    "    edges = pd.DataFrame(\n",
    "    {\n",
    "        \"source\": df[\"token0.symbol\"],\n",
    "        \"target\": df[\"token1.symbol\"]\n",
    "    }\n",
    "    )\n",
    "    G = nx.from_pandas_edgelist(edges, create_using=nx.Graph().to_undirected())\n",
    "    return G\n",
    "\n",
    "G = build_graph()"
   ]
  },
  {
   "cell_type": "markdown",
   "metadata": {
    "collapsed": false
   },
   "source": [
    "#### Functions for computing the NODF nestedness for the Input Graph and it's corresponding Null Model"
   ]
  },
  {
   "cell_type": "code",
   "execution_count": 4,
   "metadata": {},
   "outputs": [],
   "source": [
    "def calculate_nodf(G):\n",
    "    \"\"\"Calculates the NODF nestedness of the given graph G.\n",
    "\n",
    "    :returns: The nestedness of the graph\n",
    "    :rtype: float\n",
    "    \"\"\"\n",
    "    adj = nx.to_numpy_array(G)\n",
    "    calculator = NestednessCalculator(adj)\n",
    "    nodf = calculator.nodf(adj)\n",
    "    return nodf"
   ]
  },
  {
   "cell_type": "code",
   "execution_count": 5,
   "metadata": {},
   "outputs": [],
   "source": [
    "def create_null_model(G, iter):\n",
    "    \"\"\"Creates a null model by randomizing the given graph G and preserving the degree distribution.\n",
    "\n",
    "    :returns: The randomized graph\n",
    "    :rtype: nx.Graph\n",
    "    \"\"\"\n",
    "    G_rand = nx.algorithms.smallworld.random_reference(\n",
    "        G, niter=iter, connectivity=False\n",
    "    )\n",
    "    return G_rand"
   ]
  },
  {
   "cell_type": "code",
   "execution_count": 6,
   "metadata": {},
   "outputs": [],
   "source": [
    "def calculate_nodf_N_null_models(G, N, iter):\n",
    "    \"\"\"Calculates the average nodf of the N null models\n",
    "\n",
    "    :returns: The average nodf\n",
    "    :rtype: float\n",
    "    \"\"\"\n",
    "    sum_nodf = 0\n",
    "    for i in range(N):\n",
    "        G_rand = nx.algorithms.smallworld.random_reference(\n",
    "            G, niter=iter, connectivity=False\n",
    "        )\n",
    "        G_rand_nodf = calculate_nodf(G_rand)\n",
    "        sum_nodf += G_rand_nodf\n",
    "    return sum_nodf / N\n",
    "\n"
   ]
  },
  {
   "cell_type": "code",
   "execution_count": 14,
   "metadata": {},
   "outputs": [
    {
     "name": "stdout",
     "output_type": "stream",
     "text": [
      "Nestedness for G: 0.09300890661437522\n",
      "Nestedness for randomised G: 0.11058689894078594\n"
     ]
    }
   ],
   "source": [
    "G_nestedness = calculate_nodf(G)\n",
    "G_rand_nestedness = calculate_nodf(create_null_model(G, iter=100))\n",
    "\n",
    "print(f\"Nestedness for G: {G_nestedness}\")\n",
    "print(f\"Nestedness for randomised G: {G_rand_nestedness}\")\n"
   ]
  },
  {
   "cell_type": "code",
   "execution_count": 16,
   "metadata": {},
   "outputs": [
    {
     "name": "stdout",
     "output_type": "stream",
     "text": [
      "0.11699778486203109\n"
     ]
    }
   ],
   "source": [
    "# TODO: randomize 100 graphs - take the avergae of the nestedness and then compare\n",
    "G_N_rand_nodf = calculate_nodf_N_null_models(G, 10, 100)\n",
    "print(G_N_rand_nodf)"
   ]
  },
  {
   "cell_type": "markdown",
   "metadata": {},
   "source": [
    "## Validation of the NODF Nestedness"
   ]
  },
  {
   "cell_type": "markdown",
   "metadata": {},
   "source": [
    "### 1) Visualization of the Adjacency Matrix\n",
    "\n",
    "We first need to sort the nodes based on their degree."
   ]
  },
  {
   "cell_type": "code",
   "execution_count": 44,
   "metadata": {},
   "outputs": [
    {
     "name": "stdout",
     "output_type": "stream",
     "text": [
      "[('WETH', 763), ('USDC', 86), ('USDT', 52), ('DAI', 14), ('MYTH', 7), ('ACR', 6), ('UETH', 5), ('ROOT', 4), ('VOW', 4), ('WBTC', 4), ('USD', 4), ('TSUKA', 4), ('REQ', 4), ('X7005', 4), ('X7002', 4), ('X7101', 4), ('X7105', 4), ('X7004', 4), ('X7102', 4), ('X7103', 4), ('X7104', 4), ('wPE', 3), ('HEZ', 3), ('DFI', 3), ('GLM', 3), ('HEX', 3), ('XCAD', 3), ('TKX', 3), ('DUCK', 3), ('X7003', 3), ('X7001', 3), ('PAXG', 2), ('ETH2POS', 2), ('DC', 2), ('FXS', 2), ('FRAX', 2), ('HANU', 2), ('BigSB', 2), ('FLX', 2), ('DG', 2), ('WOO', 2), ('AMPL', 2), ('DOGE', 2), ('SAND', 2), ('XFIT', 2), ('INU', 2), ('HDRN', 2), ('RACA', 2), ('SHARE', 2), ('DAO', 2), ('ALBT', 2), ('ZENI', 2), ('CIV', 2), ('SANI', 2), ('MUSK', 2), ('REVV', 2), ('AGIX', 2), ('ALD', 2), ('SYLO', 2), ('CHSB', 2), ('PROS', 2), ('VS', 2), ('BLZ', 2), ('GMEE', 2), ('0NE', 2), ('UNI-V2', 2), ('MAP', 2), ('COT', 2), ('HXRO', 2), ('ANB', 2), ('DDIM', 2), ('ALICE', 2), ('FIS', 2), ('TAIL', 2), ('PRE', 2), ('ULCK', 1), ('WISE', 1), ('DELTA', 1), ('FNK', 1), ('RK:ETH', 1), ('MC', 1), ('UNI', 1), ('FEI', 1), ('TRIBE', 1), ('DBL', 1), ('BLUE', 1), ('ELON', 1), ('GOJ', 1), ('MIA', 1), ('XXi', 1), ('vUSD', 1), ('CAW', 1), ('MT', 1), ('ASTO', 1), ('M2', 1), ('WAXE', 1), ('SUPER', 1), ('BTT', 1), ('UFO', 1), ('DAPE', 1), ('ULS', 1), ('TERA', 1), ('FOX', 1), ('eXRD', 1), ('HIGH', 1), ('SHINJA', 1), ('RAD', 1), ('STARL', 1), ('ERN', 1), ('CULT', 1), ('VOLT', 1), ('BOND', 1), ('SAITAMA', 1), ('O', 1), ('PNK', 1), ('ShibDoge', 1), ('WILD', 1), ('RAI', 1), ('X2Y2', 1), ('FLOKI', 1), ('LINK', 1), ('UNIX', 1), ('LON', 1), ('WDOGE', 1), ('QOM', 1), ('PAX', 1), ('SWFL', 1), ('RLY', 1), ('⚗️', 1), ('POLS', 1), ('XFI', 1), ('AUDIO', 1), ('MMAI', 1), ('BHNY', 1), ('DEXT', 1), ('ALPHA', 1), ('WCI', 1), ('BREED', 1), ('DETS', 1), ('BOOST', 1), ('DOE', 1), ('LFT', 1), ('KOO', 1), ('VIDYA', 1), ('YDF', 1), ('UNDEAD', 1), ('KUMA', 1), ('LTX', 1), ('MKR', 1), ('APEFI', 1), ('stETH', 1), ('ANT', 1), ('EVN', 1), ('SHIB', 1), ('KAP', 1), ('TAMA', 1), ('KISHU', 1), ('PUSH', 1), ('MPL', 1), ('RBN', 1), ('LUFFY', 1), ('CDS', 1), ('FILST', 1), ('FEG', 1), ('DJ15', 1), ('ZERO', 1), ('MASK', 1), ('URUS', 1), ('MATIC', 1), ('BSG', 1), ('BEZOGE', 1), ('CVP', 1), ('WHALE', 1), ('PEEPS', 1), ('PKF', 1), ('DPI', 1), ('Ly', 1), ('GLDN', 1), ('MUTE', 1), ('ROOK', 1), ('GAIN', 1), ('SNX', 1), ('WAGMIGAMES', 1), ('GUILD', 1), ('CORE', 1), ('fUSDC', 1), ('UFT', 1), ('SNP', 1), ('KETH', 1), ('QLINDO', 1), ('MONGOOSE', 1), ('NEKO', 1), ('AKITA', 1), ('UNISTAKE', 1), ('DIA', 1), ('REFI', 1), ('RVST', 1), ('GOVI', 1), ('SAITO', 1), ('WHITE', 1), ('HAN', 1), ('SHEESHA', 1), ('SALE', 1), ('CHEDDA', 1), ('TRB', 1), ('APOLLO', 1), ('ETH2.0', 1), ('KYOKO', 1), ('RKFL', 1), ('imBTC', 1), ('VEMP', 1), ('BID', 1), ('SARCO', 1), ('NOIA', 1), ('ALI', 1), ('SAV3', 1), ('KOMPETE', 1), ('HYPE', 1), ('NUME', 1), ('OM', 1), ('6DC', 1), ('BOTTO', 1), ('MR', 1), ('TKN', 1), ('SMARTCREDIT', 1), ('CAPg', 1), ('CAPC', 1), ('RAIN', 1), ('BabyDoge', 1), ('BEND', 1), ('SPOOL', 1), ('CBTC', 1), ('FREE', 1), ('SUNC', 1), ('ZINU', 1), ('BADGER', 1), ('UMBR', 1), ('SIPHER', 1), ('TREND', 1), ('KEYS', 1), ('ZKS', 1), ('RFuel', 1), ('MRI', 1), ('Metis', 1), ('RENA', 1), ('KEX', 1), ('BURN', 1), ('AURORA', 1), ('MUSE', 1), ('GIGA', 1), ('OIL', 1), ('MCHC', 1), ('K21', 1), ('ROO', 1), ('NYXT', 1), ('SCAN', 1), ('PNT', 1), ('BPP', 1), ('BIRD', 1), ('HDAO', 1), ('DBUY', 1), ('EHX', 1), ('CCX', 1), ('OCEAN', 1), ('$DGTV', 1), ('HI', 1), ('TVK', 1), ('UNCX', 1), ('FNSP', 1), ('CLS', 1), ('KODACHI', 1), ('MYX', 1), ('PAN', 1), ('MKONG', 1), ('HOE', 1), ('CARD', 1), ('VADER', 1), ('TOKE', 1), ('VPAD', 1), ('STRONG', 1), ('SPIRAL', 1), ('xFUND', 1), ('F9', 1), ('UMX', 1), ('MANDOX', 1), ('ID', 1), ('FUSE', 1), ('QRX', 1), ('DORA', 1), ('LSS', 1), ('AVG', 1), ('DEFO', 1), ('PARA', 1), ('OCT', 1), ('ETHY', 1), ('LAYER', 1), ('DEC', 1), ('DERC', 1), ('MCC', 1), ('INV', 1), ('SHUNG', 1), ('Hype.Bet', 1), ('XMON', 1), ('CHADS', 1), ('wLITI', 1), ('BNV', 1), ('MOD', 1), ('CUBE', 1), ('SHKOOBY', 1), ('BTBS', 1), ('ADX', 1), ('renFIL', 1), ('CRNO', 1), ('AMPLIFI', 1), ('ELONONE', 1), ('BCT', 1), ('ULXS', 1), ('DEFLCT', 1), ('EGT', 1), ('PZEN', 1), ('TRX', 1), ('DOP', 1), ('renZEC', 1), ('STOS', 1), ('XAMP', 1), ('RISE', 1), ('WPT', 1), ('MSI', 1), ('RND', 1), ('XED', 1), ('ARCH', 1), ('SYNC', 1), ('SURF', 1), ('LGCY', 1), ('XETA', 1), ('QNT', 1), ('NTVRK', 1), ('LEAD', 1), ('STRK', 1), ('LBY', 1), ('NFP', 1), ('MINDS', 1), ('MONTE', 1), ('GVR', 1), ('DPR', 1), ('BDT', 1), ('yERB', 1), ('BLANK', 1), ('BSOCIAL', 1), ('RSR', 1), ('BLX', 1), ('CRV', 1), ('CAPS', 1), ('SER', 1), ('STABLEx', 1), ('SHIDO', 1), ('GAMMA', 1), ('$WEAPON', 1), ('SMI', 1), ('STRNGR', 1), ('M87', 1), ('GRO', 1), ('DEFIT', 1), ('GSWAP', 1), ('DWEB', 1), ('R34P', 1), ('Skey', 1), ('Dione', 1), ('XY', 1), ('$GASPAY', 1), ('USDI', 1), ('LOOT', 1), ('ETH2x-FLI', 1), ('POLC', 1), ('KISHIMOTO', 1), ('FSW', 1), ('STILT', 1), ('ZEE', 1), ('wALV', 1), ('AKRO', 1), ('X7R', 1), ('XRT', 1), ('ISP', 1), ('WUMI', 1), ('KIRO', 1), ('SYNR', 1), ('ABYSS', 1), ('SUSHI', 1), ('FOC', 1), ('EHIVE', 1), ('RVF', 1), ('DPAY', 1), ('LIB', 1), ('MLT', 1), ('USHI', 1), ('PLR', 1), ('DEXE', 1), ('DREAM', 1), ('REN', 1), ('YFI', 1), ('Guardian', 1), ('pBTC35A', 1), ('1-UP', 1), ('ETHYS', 1), ('SBTC', 1), ('FWT', 1), ('ORBS', 1), ('$colR', 1), ('kitty', 1), ('DXP', 1), ('POCHI', 1), ('BAO', 1), ('RPL', 1), ('MASHIMA', 1), ('BITCNY', 1), ('HATI', 1), ('ORO', 1), ('HERO', 1), ('WSCRT', 1), ('NDS', 1), ('GZLR', 1), ('FABRIC', 1), ('WAIT', 1), ('$DOSA', 1), ('MLN', 1), ('KIBA', 1), ('SCAM', 1), ('Kusunoki', 1), ('DUCKER', 1), ('EPAN', 1), ('WAS', 1), ('LYXe', 1), ('ACH', 1), ('RING', 1), ('GWD', 1), ('SIMP', 1), ('VLT', 1), ('CINU', 1), ('SD', 1), ('TSLA', 1), ('INUS', 1), ('BMT', 1), ('CRAMER', 1), ('KLEE', 1), ('SHINTAMA', 1), ('LIFE', 1), ('BONE', 1), ('KTLYO', 1), ('VISION', 1), ('LINU', 1), ('KoaCombat', 1), ('PAY', 1), ('RM', 1), ('NUM', 1), ('NEBO', 1), ('$XMU', 1), ('POND', 1), ('LITx', 1), ('ZCX', 1), ('SAFEEARTH', 1), ('SDT', 1), ('RTGN', 1), ('TRU', 1), ('MATTER', 1), ('XIO', 1), ('RBC', 1), ('Shiryo-Inu', 1), ('MV', 1), ('SKOLL', 1), ('HEGIC', 1), ('BRAIN', 1), ('ORE', 1), ('OPUL', 1), ('SDAO', 1), ('NOW', 1), ('HIKARI', 1), ('MXS', 1), ('MAPS', 1), ('RFOX', 1), ('UMB', 1), ('RPG', 1), ('THE', 1), ('CPTINU', 1), ('sUSD', 1), ('CyOp', 1), ('CUMINU', 1), ('MPH', 1), ('DICK', 1), ('DIGI', 1), ('FMON', 1), ('BABYDOGE', 1), ('GFARM2', 1), ('PoA', 1), ('MANA', 1), ('BTSE', 1), ('ROBO', 1), ('ARCHIE', 1), ('CORN', 1), ('PORTX', 1), ('GLCH', 1), ('EXPO', 1), ('DCAP', 1), ('DINGER', 1), ('HOOTY', 1), ('SXK', 1), ('ARC', 1), ('TON', 1), ('SYNL', 1), ('KIT', 1), ('ORAI', 1), ('wNXM', 1), ('MOONs', 1), ('REEF', 1), ('GLQ', 1), ('PMON', 1), ('WMLK', 1), ('LZRS', 1), ('PKN', 1), ('WLEO', 1), ('Okinami', 1), ('ABSHIBA.com', 1), ('TOWER', 1), ('ENJ', 1), ('HAPI', 1), ('CUDOS', 1), ('THRY', 1), ('HAL9000', 1), ('FORS', 1), ('XTM', 1), ('XDEX', 1), ('unknown', 1), ('BEL', 1), ('(Δ)', 1), ('pCORE', 1), ('BANKETH', 1), ('CFi', 1), ('APING', 1), ('SMAT', 1), ('RAZOR', 1), ('TCORE', 1), ('SMBR', 1), ('LEASH', 1), ('SPRAY', 1), ('SHUEY', 1), ('FOL', 1), ('BlueSparrow', 1), ('CELL', 1), ('FEY', 1), ('TROVE', 1), ('YASHA', 1), ('KTO', 1), ('GRT', 1), ('PIB', 1), ('COTI', 1), ('ROUTE', 1), ('REVO', 1), ('DOGEGF', 1), ('DBNB', 1), ('ECC', 1), ('RPILL', 1), ('Forge', 1), ('EYE', 1), ('SCX', 1), ('EDDA', 1), ('ARPA', 1), ('ETHIX', 1), ('FBASE', 1), ('SWISS', 1), ('MVI', 1), ('SWAG', 1), ('CCv2', 1), ('XCN', 1), ('FFF', 1), ('NAOS', 1), ('RDT', 1), ('TENSHI', 1), ('ASKO', 1), ('DERPY', 1), ('DBOMB', 1), ('PUSSY', 1), ('PRDZ', 1), ('eQUAD', 1), ('yBAN', 1), ('NRGY', 1), ('LIQ', 1), ('REPv2', 1), ('UMAD', 1), ('DRCT', 1), ('PINU', 1), ('NGL', 1), ('ACYC', 1), ('JOY', 1), ('Web3', 1), ('HONR', 1), ('YFIM', 1), ('MIR', 1), ('UST', 1), ('KYE', 1), ('HT', 1), ('1INCH', 1), ('XEND', 1), ('SHIBALLER', 1), ('eRSDL', 1), ('VRA', 1), ('FLASH', 1), ('wOMI', 1), ('LOOKS', 1), ('HOGE', 1), ('SYC', 1), ('GTH', 1), ('renBTC', 1), ('MILFIN', 1), ('Gold 1', 1), ('MOOV', 1), ('Seele', 1), ('DTOOLS', 1), ('MCONTENT', 1), ('EPARA', 1), ('CRBN', 1), ('HRD', 1), ('pBTC', 1), ('YSEC', 1), ('PLA', 1), ('BAT', 1), ('MONA', 1), ('GIVE', 1), ('SPROUT', 1), ('RNDR', 1), ('PAID', 1), ('FCL', 1), ('EPRO', 1), ('DEXM', 1), ('DGD', 1), ('GOOSE', 1), ('MIKOTO', 1), ('GALI', 1), ('PHA', 1), ('UBT', 1), ('SI', 1), ('HORD', 1), ('HOICHI', 1), ('HINA', 1), ('SNT', 1), ('ORN', 1), ('AIR', 1), ('DIGS', 1), ('BMI', 1), ('RBIF', 1), ('G.O.A.T', 1), ('CWEB', 1), ('ZEUS', 1), ('KRZ', 1), ('RMPL', 1), ('PHTK', 1), ('CoShi', 1), ('RAMP', 1), ('SUZUME', 1), ('METANO', 1), ('BIST', 1), ('AAVE', 1), ('KISHUTAMA', 1), ('FAI', 1), ('MARBLEX', 1), ('OKLG', 1), ('JUP', 1), ('CHIRO', 1), ('SWAPP', 1), ('CHANGE', 1), ('KEN', 1), ('BEE', 1), ('BTB', 1), ('EverApe 🍌', 1), ('MARSH', 1), ('BSL', 1), ('DAFI', 1), ('WARP', 1), ('BCUBE', 1), ('GEEQ', 1), ('NANOCORE', 1), ('NTX', 1), ('TOSHI', 1), ('LMAO', 1), ('SLICE', 1), ('PERL', 1), ('CIRUS', 1), ('X7DAO', 1), ('GDT', 1), ('CLI', 1), ('WHL', 1), ('FVT', 1), ('CGG', 1), ('BBANK', 1), ('DNXC', 1), ('STORJ', 1), ('PEAK', 1), ('UCN', 1), ('$LSVR', 1), ('CTASK', 1), ('BPRO', 1), ('POOL', 1), ('HODL 💎', 1), ('MNT', 1), ('PICKLE', 1), ('NFT', 1), ('CRAFT', 1), ('DIE', 1), ('MUNI', 1), ('GenBlok', 1), ('CE', 1), ('Mononoke-Inu', 1), ('dKUMA', 1), ('eMax', 1), ('INSUR', 1), ('$YANTRA', 1), ('LDO', 1), ('RON', 1), ('FOM', 1), ('PAWTH', 1), ('BOBO', 1), ('CAT', 1), ('GYSR', 1), ('BAC', 1), ('UNIQ', 1), ('CYC', 1), ('VST', 1), ('RAIL', 1), ('GN', 1), ('JACY', 1), ('ALCAZAR', 1), ('TW33T', 1), ('lowb', 1), ('7ADD', 1), ('RKTN', 1), ('DOG', 1), ('KEK', 1), ('CPD', 1), ('CEL', 1), ('HID', 1), ('SAN', 1), ('rPepe', 1), ('WCHI', 1), ('EURO', 1), ('HY', 1), ('KORI', 1), ('xSUNC', 1), ('CHAIN', 1), ('UDT', 1), ('BDP', 1), ('KINE', 1), ('BabyShiba', 1), ('ETHPAD', 1), ('BNSD', 1), ('YUP', 1), ('WORLD', 1), ('CMERGE', 1), ('VRX', 1), ('POWER', 1), ('NAMI', 1), ('COC', 1), ('EPIK', 1), ('EWTB', 1), ('UNY', 1), ('UNV', 1), ('N1', 1), ('PRQ', 1), ('SPS', 1), ('GOKU', 1), ('XP', 1), ('OIN', 1), ('SHIBGEKI', 1), ('SHIH', 1), ('PSLIP', 1), ('FANC', 1), ('UDO', 1), ('NCDT', 1), ('COMP', 1), ('TOPS', 1), ('XAEA-Xii', 1), ('CHURCH', 1), ('SENT', 1), ('BoomB', 1), ('rDPX', 1), ('MFF', 1), ('WOLVERINU', 1), ('rFIS', 1), ('GS', 1), ('KATA', 1), ('MIX', 1), ('CLOUT', 1), ('BCDT', 1), ('LEND', 1), ('SLRR', 1), ('CLIFF', 1), ('KTN', 1), ('IOI', 1), ('SFMOON', 1), ('DNBUY', 1), ('MINT', 1), ('Dream', 1), ('DBI', 1), ('GAINS', 1), ('LRC', 1), ('SYYF', 1), ('ankrETH', 1), ('MARVIN', 1), ('SLAKE', 1), ('UPI', 1), ('CXN', 1), ('SAITANOBI', 1), ('WNK', 1), ('SMOL', 1), ('UNDG', 1), ('LEAP', 1), ('$DG', 1), ('PAZZY', 1), ('KALLY', 1), ('BLOCKS', 1), ('DPX', 1), ('CMS', 1), ('gm', 1), ('SATA', 1), ('SHAKE', 1), ('MOAP', 1), ('SWFTC', 1), ('RCORE', 1), ('SHINJI', 1), ('ZORA', 1), ('RLDX', 1), ('HLD', 1), ('APE', 1), ('DDDD', 1), ('NFTY', 1), ('BONDLY', 1), ('HOKK', 1), ('UNO', 1), ('HSHIB', 1), ('RARI', 1), ('STAK', 1), ('UNCL', 1), ('MUNCH', 1), ('FRIN', 1), ('TKINU', 1), ('RVR', 1), ('TORN', 1), ('DGRN', 1), ('DOWS', 1), ('SAITOKI', 1), ('ASTRAFER', 1), ('SIS', 1), ('OCC', 1), ('TERRAFORM', 1), ('ARTEQ', 1), ('WINV2', 1), ('WINV1', 1), ('WOZX', 1), ('LAEEB', 1), ('PRT', 1), ('DART', 1), ('RISU', 1), ('EJS', 1), ('SHFT', 1), ('SHROOM', 1), ('WXMR', 1), ('MEOW', 1), ('Rebel', 1), ('AXI', 1), ('ZOMB', 1), ('ROCKI', 1), ('COIN', 1), ('RBXSamurai', 1), ('PIKA', 1), ('DRYP', 1), ('Nsure', 1), ('MP3', 1), ('Shibtoro', 1), ('N3RDz', 1), ('QUID', 1), ('GATE', 1), ('Kitty Dinger', 1), ('SVX', 1), ('SWAP', 1), ('GROK', 1), ('LOL', 1), ('INSURE', 1), ('TheCitadel', 1), ('BFT', 1), ('TINU', 1), ('UPStkn', 1), ('GOBE', 1), ('DODO', 1), ('POLVEN', 1), ('BLXM', 1), ('AC', 1), ('WeR1', 1), ('$GENCAP', 1), ('α', 1), ('AAG', 1), ('PDCT', 1), ('PULSE', 1), ('WG0', 1), ('ETHSCAPE', 1), ('VB', 1), ('COR', 1), ('SONIC', 1), ('BoredM', 1), ('SHIWA', 1), ('COPS', 1), ('DOSE', 1), ('NYAN-2', 1), ('TESS', 1), ('ERP', 1), ('FCORE', 1), ('BET', 1), ('XBASE', 1), ('EBASE', 1), ('ZOM', 1), ('ROCK', 1), ('DCNT', 1), ('Thor', 1), ('Poseidon', 1), ('EXNT', 1), ('ZONE', 1), ('QMALL', 1), ('ZRX', 1), ('$LOG', 1), ('PNODE', 1), ('CIA', 1), ('SHD', 1), ('RBX', 1), ('API3', 1), ('PATH', 1), ('FARM', 1), ('CURRY', 1), ('εχοτїχ', 1)]\n"
     ]
    }
   ],
   "source": [
    "G_nodes_sorted = sorted(G.degree, key=lambda x: x[1], reverse=True)\n",
    "print(G_nodes_sorted)\n",
    "g_degrees = G.degree()\n",
    "degrees = [ g_degrees[i] for i in G.nodes()]\n",
    "node_order = [i[0] for i in G_nodes_sorted]\n"
   ]
  },
  {
   "cell_type": "code",
   "execution_count": 89,
   "metadata": {},
   "outputs": [
    {
     "data": {
      "image/png": "[encoded data removed]",
      "text/plain": [
       "<Figure size 720x1080 with 1 Axes>"
      ]
     },
     "metadata": {
      "needs_background": "light"
     },
     "output_type": "display_data"
    }
   ],
   "source": [
    "adj = nx.to_numpy_matrix(G, dtype=np.int64, nodelist=node_order)\n",
    "fig, ax = plt.subplots(figsize=(10,15)) \n",
    "plt.imshow(adj, interpolation=\"nearest\", cmap='gray')\n",
    "plt.show()\n",
    "#fig.savefig(\"adjmatrix_gray.pdf\", format=\"pdf\")"
   ]
  },
  {
   "cell_type": "markdown",
   "metadata": {},
   "source": [
    "### 2) Check if all the centrality measures are ranked in the same way\n",
    "\n",
    "To check this we are going to use the Spearman correaltion coefficient that compares the rank."
   ]
  },
  {
   "cell_type": "code",
   "execution_count": 125,
   "metadata": {},
   "outputs": [
    {
     "data": {
      "text/html": [
       "<div>\n",
       "<style scoped>\n",
       "    .dataframe tbody tr th:only-of-type {\n",
       "        vertical-align: middle;\n",
       "    }\n",
       "\n",
       "    .dataframe tbody tr th {\n",
       "        vertical-align: top;\n",
       "    }\n",
       "\n",
       "    .dataframe thead th {\n",
       "        text-align: right;\n",
       "    }\n",
       "</style>\n",
       "<table border=\"1\" class=\"dataframe\">\n",
       "  <thead>\n",
       "    <tr style=\"text-align: right;\">\n",
       "      <th></th>\n",
       "      <th>deg_cent</th>\n",
       "      <th>betw_cent</th>\n",
       "      <th>closeness_cent</th>\n",
       "      <th>eigen_cent</th>\n",
       "    </tr>\n",
       "  </thead>\n",
       "  <tbody>\n",
       "    <tr>\n",
       "      <th>WETH</th>\n",
       "      <td>0.817792</td>\n",
       "      <td>0.889173</td>\n",
       "      <td>0.826662</td>\n",
       "      <td>0.705202</td>\n",
       "    </tr>\n",
       "    <tr>\n",
       "      <th>USDC</th>\n",
       "      <td>0.092176</td>\n",
       "      <td>0.122840</td>\n",
       "      <td>0.492449</td>\n",
       "      <td>0.052105</td>\n",
       "    </tr>\n",
       "    <tr>\n",
       "      <th>USDT</th>\n",
       "      <td>0.055734</td>\n",
       "      <td>0.064430</td>\n",
       "      <td>0.481828</td>\n",
       "      <td>0.046791</td>\n",
       "    </tr>\n",
       "    <tr>\n",
       "      <th>DAI</th>\n",
       "      <td>0.015005</td>\n",
       "      <td>0.014453</td>\n",
       "      <td>0.471395</td>\n",
       "      <td>0.033412</td>\n",
       "    </tr>\n",
       "    <tr>\n",
       "      <th>MYTH</th>\n",
       "      <td>0.007503</td>\n",
       "      <td>0.006148</td>\n",
       "      <td>0.460652</td>\n",
       "      <td>0.028522</td>\n",
       "    </tr>\n",
       "    <tr>\n",
       "      <th>...</th>\n",
       "      <td>...</td>\n",
       "      <td>...</td>\n",
       "      <td>...</td>\n",
       "      <td>...</td>\n",
       "    </tr>\n",
       "    <tr>\n",
       "      <th>USDI</th>\n",
       "      <td>0.001072</td>\n",
       "      <td>0.000000</td>\n",
       "      <td>0.443101</td>\n",
       "      <td>0.025438</td>\n",
       "    </tr>\n",
       "    <tr>\n",
       "      <th>LOOT</th>\n",
       "      <td>0.001072</td>\n",
       "      <td>0.000000</td>\n",
       "      <td>0.443101</td>\n",
       "      <td>0.025438</td>\n",
       "    </tr>\n",
       "    <tr>\n",
       "      <th>ETH2x-FLI</th>\n",
       "      <td>0.001072</td>\n",
       "      <td>0.000000</td>\n",
       "      <td>0.443101</td>\n",
       "      <td>0.025438</td>\n",
       "    </tr>\n",
       "    <tr>\n",
       "      <th>POLC</th>\n",
       "      <td>0.001072</td>\n",
       "      <td>0.000000</td>\n",
       "      <td>0.443101</td>\n",
       "      <td>0.025438</td>\n",
       "    </tr>\n",
       "    <tr>\n",
       "      <th>εχοτїχ</th>\n",
       "      <td>0.001072</td>\n",
       "      <td>0.000000</td>\n",
       "      <td>0.443101</td>\n",
       "      <td>0.025438</td>\n",
       "    </tr>\n",
       "  </tbody>\n",
       "</table>\n",
       "<p>934 rows × 4 columns</p>\n",
       "</div>"
      ],
      "text/plain": [
       "           deg_cent  betw_cent  closeness_cent  eigen_cent\n",
       "WETH       0.817792   0.889173        0.826662    0.705202\n",
       "USDC       0.092176   0.122840        0.492449    0.052105\n",
       "USDT       0.055734   0.064430        0.481828    0.046791\n",
       "DAI        0.015005   0.014453        0.471395    0.033412\n",
       "MYTH       0.007503   0.006148        0.460652    0.028522\n",
       "...             ...        ...             ...         ...\n",
       "USDI       0.001072   0.000000        0.443101    0.025438\n",
       "LOOT       0.001072   0.000000        0.443101    0.025438\n",
       "ETH2x-FLI  0.001072   0.000000        0.443101    0.025438\n",
       "POLC       0.001072   0.000000        0.443101    0.025438\n",
       "εχοτїχ     0.001072   0.000000        0.443101    0.025438\n",
       "\n",
       "[934 rows x 4 columns]"
      ]
     },
     "execution_count": 125,
     "metadata": {},
     "output_type": "execute_result"
    }
   ],
   "source": [
    "sorted_centrality_list = centrality_properties()\n",
    "sorted_centrality_list"
   ]
  },
  {
   "cell_type": "code",
   "execution_count": 128,
   "metadata": {},
   "outputs": [
    {
     "data": {
      "image/png": "[encoded data removed]",
      "text/plain": [
       "<Figure size 1080x720 with 2 Axes>"
      ]
     },
     "metadata": {
      "needs_background": "light"
     },
     "output_type": "display_data"
    }
   ],
   "source": [
    "df=sorted_centrality_list\n",
    "fig, ax = plt.subplots(figsize=(15,10))   \n",
    "corr = df.corr(method = 'spearman')\n",
    "sns.heatmap(corr, annot = True, cmap=\"binary\", annot_kws={'size': 20})\n",
    "plt.title(\"Spearman's Correlation Coefficients between Centralities\")\n",
    "#fig.savefig(\"corr_heatmap.pdf\", format=\"pdf\")"
   ]
  }
 ],
 "metadata": {
  "kernelspec": {
   "display_name": "Python 3.9.12 ('base')",
   "language": "python",
   "name": "python3"
  },
  "language_info": {
   "codemirror_mode": {
    "name": "ipython",
    "version": 3
   },
   "file_extension": ".py",
   "mimetype": "text/x-python",
   "name": "python",
   "nbconvert_exporter": "python",
   "pygments_lexer": "ipython3",
   "version": "3.9.12"
  },
  "orig_nbformat": 4,
  "vscode": {
   "interpreter": {
    "hash": "60db49b06dffd1fabef90af0eabdbf7d8889b4aa1a6939d4bdae7d265b04217f"
   }
  }
 },
 "nbformat": 4,
 "nbformat_minor": 2
}

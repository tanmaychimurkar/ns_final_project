{
 "cells": [
  {
   "cell_type": "markdown",
   "metadata": {
    "collapsed": false
   },
   "source": [
    "#### Importing Libraries"
   ]
  },
  {
   "cell_type": "code",
   "execution_count": 1,
   "metadata": {},
   "outputs": [],
   "source": [
    "import networkx as nx\n",
    "import numpy as np\n",
    "import pandas as pd\n",
    "import matplotlib.pyplot as plt\n",
    "import seaborn as sns"
   ]
  },
  {
   "cell_type": "markdown",
   "metadata": {
    "collapsed": false
   },
   "source": [
    "#### Class for Computing the NODF Nestedness"
   ]
  },
  {
   "cell_type": "code",
   "execution_count": 1,
   "metadata": {
    "collapsed": false
   },
   "outputs": [],
   "source": [
    "class NestednessCalculator(object):\n",
    "    \"\"\"Calculates the nestedness of the input matrix.\n",
    "\n",
    "    The algorithms that have been implemented are:\n",
    "        - NODF (Nestedness based on Overlap and Decreasing Fill)\n",
    "    \"\"\"\n",
    "\n",
    "    def __init__(self, mat):\n",
    "        \"\"\"Initialize the Nestedness calculator and check the input matrix.\n",
    "\n",
    "        :param mat: binary input matrix\n",
    "        :type mat: numpy.array\n",
    "        \"\"\"\n",
    "        self.check_input_matrix_is_binary(mat)\n",
    "        self.check_degrees(mat)\n",
    "\n",
    "    @staticmethod\n",
    "    def check_input_matrix_is_binary(mat):\n",
    "        \"\"\"Check that the input matrix is binary, i.e. entries are 0 or 1.\n",
    "\n",
    "        :param mat: binary input matrix\n",
    "        :type mat: numpy.array\n",
    "\n",
    "        :raise AssertionError: raise an error if the input matrix is not\n",
    "            binary\n",
    "        \"\"\"\n",
    "        assert np.all(np.logical_or(mat == 0, mat == 1)), \"Input matrix is not binary.\"\n",
    "\n",
    "    @staticmethod\n",
    "    def check_degrees(mat):\n",
    "        \"\"\"Check that rows and columns are not completely zero.\n",
    "\n",
    "        :param mat: binary input matrix\n",
    "        :type mat: numpy.array\n",
    "\n",
    "        :raise AssertionError: raise an error if the input matrix has\n",
    "            completely zero rows or columns.\n",
    "        \"\"\"\n",
    "        assert np.all(mat.sum(axis=1) != 0), \"Input matrix rows with only zeros, abort.\"\n",
    "        assert np.all(\n",
    "            mat.sum(axis=0) != 0\n",
    "        ), \"Input matrix columns with only zeros, abort.\"\n",
    "\n",
    "    ################################################################################\n",
    "    # NODF - Nestedness based on Overlap and Decreasing Fill\n",
    "    ################################################################################\n",
    "\n",
    "    @staticmethod\n",
    "    def get_paired_nestedness(mat, rows=True):\n",
    "        \"\"\"Calculate the paired nestedness along the rows or columns of the matrix.\n",
    "\n",
    "        :param mat: binary input matrix\n",
    "        :type mat: numpy.array\n",
    "        :param rows: if True, pairs are calculated along the rows, if False\n",
    "            along the columns\n",
    "        :type rows: bool\n",
    "\n",
    "        :returns: degree of paired nestedness\n",
    "        :rtype: float\n",
    "        \"\"\"\n",
    "        if rows:\n",
    "            # consider rows\n",
    "            po_mat = np.dot(mat, mat.T)\n",
    "            degrees = mat.sum(axis=1)\n",
    "        else:\n",
    "            # consider cols\n",
    "            po_mat = np.dot(mat.T, mat)\n",
    "            degrees = mat.sum(axis=0)\n",
    "        assert len(degrees) == len(po_mat)\n",
    "\n",
    "        neg_delta = degrees != degrees[:, np.newaxis]\n",
    "        deg_matrix = degrees * np.ones_like(po_mat)\n",
    "        deg_minima = np.minimum(deg_matrix, deg_matrix.T)\n",
    "        n_pairs = po_mat[neg_delta] / (2.0 * deg_minima[neg_delta])\n",
    "        return n_pairs.sum()\n",
    "\n",
    "    def nodf(self, mat):\n",
    "        \"\"\"Calculate the NODF nestedness of the input matrix.\n",
    "\n",
    "        :param mat: binary input matrix\n",
    "        :type mat: numpy.array\n",
    "\n",
    "        :returns: NODF nestedness of the input matrix\n",
    "        :rtype: float\n",
    "        \"\"\"\n",
    "        n_pairs_rows = self.get_paired_nestedness(mat, rows=True)\n",
    "        n_pairs_cols = self.get_paired_nestedness(mat, rows=False)\n",
    "        norm = np.sum(np.array(mat.shape) * (np.array(mat.shape) - 1) / 2.0)\n",
    "        nodf = (n_pairs_rows + n_pairs_cols) / norm\n",
    "        return nodf"
   ]
  },
  {
   "cell_type": "markdown",
   "metadata": {
    "collapsed": false
   },
   "source": [
    "#### Loading the Liquidity Graph"
   ]
  },
  {
   "cell_type": "code",
   "execution_count": 3,
   "metadata": {},
   "outputs": [],
   "source": [
    "def build_graph():\n",
    "    \"\"\"Build a graph from the 'top_1000_by_liquidity.csv' file.\n",
    "\n",
    "    :returns: The built network\n",
    "    :rtype: nx.Graph\n",
    "    \"\"\"\n",
    "    df = pd.read_csv(\"top_1000_by_liquidity.csv\")\n",
    "    G = nx.from_pandas_edgelist(\n",
    "        df,\n",
    "        source=\"token0.symbol\",\n",
    "        target=\"token1.symbol\",\n",
    "        edge_attr=\"reserveUSD\",\n",
    "        create_using=nx.Graph().to_undirected(),\n",
    "    )\n",
    "    return G\n",
    "\n",
    "\n",
    "G = build_graph()"
   ]
  },
  {
   "cell_type": "markdown",
   "metadata": {
    "collapsed": false
   },
   "source": [
    "#### Functions for computing the NODF nestedness for the Input Graph and it's corresponding Null Model"
   ]
  },
  {
   "cell_type": "code",
   "execution_count": 4,
   "metadata": {},
   "outputs": [],
   "source": [
    "def calculate_nodf(G):\n",
    "    \"\"\"Calculates the NODF nestedness of the given graph G.\n",
    "\n",
    "    :returns: The nestedness of the graph\n",
    "    :rtype: float\n",
    "    \"\"\"\n",
    "    adj = nx.to_numpy_array(G)\n",
    "    calculator = NestednessCalculator(adj)\n",
    "    nodf = calculator.nodf(adj)\n",
    "    return nodf"
   ]
  },
  {
   "cell_type": "code",
   "execution_count": 5,
   "metadata": {},
   "outputs": [],
   "source": [
    "def create_null_model(G, iter):\n",
    "    \"\"\"Creates a null model by randomizing the given graph G and preserving the degree distribution.\n",
    "\n",
    "    :returns: The randomized graph\n",
    "    :rtype: nx.Graph\n",
    "    \"\"\"\n",
    "    G_rand = nx.algorithms.smallworld.random_reference(\n",
    "        G, niter=iter, connectivity=False\n",
    "    )\n",
    "    return G_rand"
   ]
  },
  {
   "cell_type": "code",
   "execution_count": 15,
   "metadata": {},
   "outputs": [],
   "source": [
    "def calculate_nodf_N_null_models(G, N, iter):\n",
    "    \"\"\"Calculates the average nodf of the N null models\n",
    "\n",
    "    :returns: The average nodf\n",
    "    :rtype: float\n",
    "    \"\"\"\n",
    "    sum_nodf = 0\n",
    "    for i in range(N):\n",
    "        G_rand = nx.algorithms.smallworld.random_reference(\n",
    "            G, niter=iter, connectivity=False\n",
    "        )\n",
    "        G_rand_nodf = calculate_nodf(G_rand)\n",
    "        sum_nodf += G_rand_nodf\n",
    "    return sum_nodf / N\n",
    "\n"
   ]
  },
  {
   "cell_type": "code",
   "execution_count": 7,
   "metadata": {},
   "outputs": [
    {
     "name": "stdout",
     "output_type": "stream",
     "text": [
      "Nestedness for G: 0.09300890661437522\n",
      "Nestedness for randomised G: 0.11924592178352232\n"
     ]
    }
   ],
   "source": [
    "G_nestedness = calculate_nodf(G)\n",
    "G_rand_nestedness = calculate_nodf(create_null_model(G, iter=100))\n",
    "\n",
    "print(f\"Nestedness for G: {G_nestedness}\")\n",
    "print(f\"Nestedness for randomised G: {G_rand_nestedness}\")\n"
   ]
  },
  {
   "cell_type": "code",
   "execution_count": 16,
   "metadata": {},
   "outputs": [
    {
     "name": "stdout",
     "output_type": "stream",
     "text": [
      "0.11904710819887394\n"
     ]
    }
   ],
   "source": [
    "# TODO: randomize 100 graphs - take the avergae of the nestedness and then compare\n",
    "G_N_rand_nodf = calculate_nodf_N_null_models(G, 10, 100)\n",
    "print(G_N_rand_nodf)"
   ]
  },
  {
   "cell_type": "code",
   "execution_count": 5,
   "metadata": {},
   "outputs": [
    {
     "data": {
      "image/png": "[encoded data removed]",
      "text/plain": [
       "<Figure size 720x1080 with 1 Axes>"
      ]
     },
     "metadata": {
      "needs_background": "light"
     },
     "output_type": "display_data"
    }
   ],
   "source": [
    "# Visualize the adj matrix\n",
    "adj = nx.to_numpy_array(G)\n",
    "df = pd.DataFrame(adj)\n",
    "fig, ax = plt.subplots(figsize=(10,15)) \n",
    "plt.imshow(adj, interpolation=\"nearest\", cmap='Blues')\n",
    "plt.show()\n",
    "#fig.savefig(\"adjmatrix.pdf\", format=\"pdf\")"
   ]
  }
 ],
 "metadata": {
  "kernelspec": {
   "display_name": "Python 3.9.12 ('base')",
   "language": "python",
   "name": "python3"
  },
  "language_info": {
   "codemirror_mode": {
    "name": "ipython",
    "version": 3
   },
   "file_extension": ".py",
   "mimetype": "text/x-python",
   "name": "python",
   "nbconvert_exporter": "python",
   "pygments_lexer": "ipython3",
   "version": "3.9.12"
  },
  "orig_nbformat": 4,
  "vscode": {
   "interpreter": {
    "hash": "60db49b06dffd1fabef90af0eabdbf7d8889b4aa1a6939d4bdae7d265b04217f"
   }
  }
 },
 "nbformat": 4,
 "nbformat_minor": 2
}
